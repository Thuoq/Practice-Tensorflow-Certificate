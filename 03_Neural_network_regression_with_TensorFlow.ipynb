{
  "nbformat": 4,
  "nbformat_minor": 0,
  "metadata": {
    "colab": {
      "name": "03_Neural network regression with TensorFlow.ipynb",
      "provenance": [],
      "collapsed_sections": [],
      "toc_visible": true,
      "authorship_tag": "ABX9TyNj+hkTY02P9Ej0QvUE/QCc",
      "include_colab_link": true
    },
    "kernelspec": {
      "name": "python3",
      "display_name": "Python 3"
    },
    "language_info": {
      "name": "python"
    },
    "accelerator": "GPU"
  },
  "cells": [
    {
      "cell_type": "markdown",
      "metadata": {
        "id": "view-in-github",
        "colab_type": "text"
      },
      "source": [
        "<a href=\"https://colab.research.google.com/github/Thuoq/Practice-Tensorflow-Certificate/blob/main/03_Neural_network_regression_with_TensorFlow.ipynb\" target=\"_parent\"><img src=\"https://colab.research.google.com/assets/colab-badge.svg\" alt=\"Open In Colab\"/></a>"
      ]
    },
    {
      "cell_type": "markdown",
      "metadata": {
        "id": "Lwd33c6QO1EA"
      },
      "source": [
        "#Introduction Regression with TensorFlow\n",
        "**Defined**:"
      ]
    },
    {
      "cell_type": "code",
      "metadata": {
        "id": "tBdmtu-ZP1ga"
      },
      "source": [
        "#import library\n",
        "import tensorflow as tf\n",
        "from tensorflow import keras\n",
        "import numpy as np\n",
        "import matplotlib.pyplot as plt\n"
      ],
      "execution_count": 1,
      "outputs": []
    },
    {
      "cell_type": "code",
      "metadata": {
        "colab": {
          "base_uri": "https://localhost:8080/",
          "height": 286
        },
        "id": "TEGteSivQVw_",
        "outputId": "42504e5e-38be-4e98-be63-2624758c3a62"
      },
      "source": [
        "X = np.array([-7.0,-4.0,-1.0,2.0,5.0,8.0,11.0,14.0])\n",
        "y = np.array([3.0,6.0,9.0,12.0,15.0,18.0,21.0,24.0])\n",
        "plt.scatter(X,y)"
      ],
      "execution_count": 2,
      "outputs": [
        {
          "output_type": "execute_result",
          "data": {
            "text/plain": [
              "<matplotlib.collections.PathCollection at 0x7f65ccbbcf50>"
            ]
          },
          "metadata": {
            "tags": []
          },
          "execution_count": 2
        },
        {
          "output_type": "display_data",
          "data": {
            "image/png": "[encoded data removed]",
            "text/plain": [
              "<Figure size 432x288 with 1 Axes>"
            ]
          },
          "metadata": {
            "tags": [],
            "needs_background": "light"
          }
        }
      ]
    },
    {
      "cell_type": "markdown",
      "metadata": {
        "id": "Plmr2yIPRXUz"
      },
      "source": [
        "## Input and output shapes"
      ]
    },
    {
      "cell_type": "code",
      "metadata": {
        "colab": {
          "base_uri": "https://localhost:8080/"
        },
        "id": "ysA_JLl5RgW0",
        "outputId": "1ba0d5f2-e57f-4069-fe2a-8cdb22f0b84a"
      },
      "source": [
        "# Turnout Numpy into Tensor\n",
        "X = tf.constant(X)\n",
        "y = tf.constant(y)\n",
        "X.shape,y.shape"
      ],
      "execution_count": 3,
      "outputs": [
        {
          "output_type": "execute_result",
          "data": {
            "text/plain": [
              "(TensorShape([8]), TensorShape([8]))"
            ]
          },
          "metadata": {
            "tags": []
          },
          "execution_count": 3
        }
      ]
    },
    {
      "cell_type": "code",
      "metadata": {
        "colab": {
          "base_uri": "https://localhost:8080/"
        },
        "id": "HY7XY22ZSB8v",
        "outputId": "6e347060-0284-4b55-a0f7-f88e1b314dfa"
      },
      "source": [
        "input_shape = X[0].shape\n",
        "output_shape = y[0].shape\n",
        "input_shape,output_shape"
      ],
      "execution_count": 4,
      "outputs": [
        {
          "output_type": "execute_result",
          "data": {
            "text/plain": [
              "(TensorShape([]), TensorShape([]))"
            ]
          },
          "metadata": {
            "tags": []
          },
          "execution_count": 4
        }
      ]
    },
    {
      "cell_type": "markdown",
      "metadata": {
        "id": "lYmnvCn0SOZZ"
      },
      "source": [
        "## Steps in modeling with tensorflow \n",
        "1. Create a model - defined the input and output layers, as well as hidden layers of a deepl learning model\n",
        "2. compile model - defined the loss fnc,(in other ) optimizer adn evaluation metrics ()\n",
        "3. fit a model, find pattern X,y"
      ]
    },
    {
      "cell_type": "code",
      "metadata": {
        "colab": {
          "base_uri": "https://localhost:8080/"
        },
        "id": "ezD1P7NnSa9y",
        "outputId": "9fec945d-af4a-407d-ebdc-bd339b49d4bc"
      },
      "source": [
        "# 1 create a model Sequential API: mean group stack of layers into tf.keras.model\n",
        "l0 =keras.layers.Dense(1)\n",
        "model = keras.Sequential()\n",
        "model.add(l0);\n",
        "\n",
        "# 2 Compile model\n",
        "model.compile(loss=tf.losses.mae #mae short for mean absolute error\n",
        "              ,optimizer = keras.optimizers.SGD(), # sgd for stochatics gradient denscent\n",
        "              metrics =['mae']) \n",
        "# 3 fit the model\n",
        "model.fit(X,y,epochs=5)\n",
        "# Find weight \n",
        "print(l0.get_weights())\n"
      ],
      "execution_count": 5,
      "outputs": [
        {
          "output_type": "stream",
          "text": [
            "Epoch 1/5\n",
            "1/1 [==============================] - 3s 3s/step - loss: 19.7010 - mae: 19.7010\n",
            "Epoch 2/5\n",
            "1/1 [==============================] - 0s 6ms/step - loss: 19.4197 - mae: 19.4197\n",
            "Epoch 3/5\n",
            "1/1 [==============================] - 0s 6ms/step - loss: 19.1385 - mae: 19.1385\n",
            "Epoch 4/5\n",
            "1/1 [==============================] - 0s 5ms/step - loss: 18.8572 - mae: 18.8572\n",
            "Epoch 5/5\n",
            "1/1 [==============================] - 0s 8ms/step - loss: 18.5760 - mae: 18.5760\n",
            "[array([[-1.0614948]], dtype=float32), array([0.0375], dtype=float32)]\n"
          ],
          "name": "stdout"
        }
      ]
    },
    {
      "cell_type": "code",
      "metadata": {
        "colab": {
          "base_uri": "https://localhost:8080/"
        },
        "id": "KktZ0XkvUxEk",
        "outputId": "4e0b5a34-a94d-4a3a-e479-7c9a0ca2a54e"
      },
      "source": [
        "y_pred = model.predict([17])\n",
        "y_pred"
      ],
      "execution_count": 6,
      "outputs": [
        {
          "output_type": "execute_result",
          "data": {
            "text/plain": [
              "array([[-18.007912]], dtype=float32)"
            ]
          },
          "metadata": {
            "tags": []
          },
          "execution_count": 6
        }
      ]
    },
    {
      "cell_type": "markdown",
      "metadata": {
        "id": "BdXjr0vAbFOo"
      },
      "source": [
        "1. là chúng ta xây dựng hoặc import cái mô hình mà chúng ta đã được đào tạo trước đó liên quan tới vấn đề của chúng ta \n",
        "2. Compile model chuẩn bị nó để sử dụng với dữ liệu. \n",
        "> **LOss**: Các dự đoán của mô hình của bạn sai như thế nào so với nhãn sự thật\n",
        "> \n",
        ">**Optimizer** : find minimum off loss\n",
        ">\n",
        "> **metric**: Các giá trị có thể diễn giải cho  user về mức độ hoạt động của mô hình của bạn\n"
      ]
    },
    {
      "cell_type": "markdown",
      "metadata": {
        "id": "jx0_YYxbXxN6"
      },
      "source": [
        "### Improving our model\n",
        "We can improve our model, by altering the steps we took to create a model\n",
        "1. **Create a model** = we might add more, increase the number of units add more neurons\n",
        "2. **Compiling a model**- here we might change the optimizeation fnc or perhaps the **learning rate** of\n",
        "3. More time and more data"
      ]
    },
    {
      "cell_type": "code",
      "metadata": {
        "colab": {
          "base_uri": "https://localhost:8080/"
        },
        "id": "KSbOm3h8X7Yf",
        "outputId": "93c597f9-44cf-446d-a4c1-49fe99ce6023"
      },
      "source": [
        "# Let's rebuild our model\n",
        "l_end = keras.layers.Dense(1)\n",
        "# 1. Create the model\n",
        "model = keras.Sequential([\n",
        "              \n",
        "                          keras.layers.Dense(units=100,activation='relu')\n",
        "                    \n",
        "])\n",
        "model.add(l_end)\n",
        "# 2. Compile the model\n",
        "model.compile(loss=tf.keras.losses.mae,\n",
        "              optimizer=tf.keras.optimizers.Adam(lr=0.01),\n",
        "              metrics=['mae'])\n",
        "# 3. fit the model\n",
        "model.fit(X,y,epochs=100)\n"
      ],
      "execution_count": 7,
      "outputs": [
        {
          "output_type": "stream",
          "text": [
            "/usr/local/lib/python3.7/dist-packages/tensorflow/python/keras/optimizer_v2/optimizer_v2.py:375: UserWarning: The `lr` argument is deprecated, use `learning_rate` instead.\n",
            "  \"The `lr` argument is deprecated, use `learning_rate` instead.\")\n"
          ],
          "name": "stderr"
        },
        {
          "output_type": "stream",
          "text": [
            "Epoch 1/100\n",
            "1/1 [==============================] - 0s 396ms/step - loss: 12.7883 - mae: 12.7883\n",
            "Epoch 2/100\n",
            "1/1 [==============================] - 0s 5ms/step - loss: 11.9456 - mae: 11.9456\n",
            "Epoch 3/100\n",
            "1/1 [==============================] - 0s 6ms/step - loss: 11.1117 - mae: 11.1117\n",
            "Epoch 4/100\n",
            "1/1 [==============================] - 0s 5ms/step - loss: 10.3730 - mae: 10.3730\n",
            "Epoch 5/100\n",
            "1/1 [==============================] - 0s 5ms/step - loss: 9.7795 - mae: 9.7795\n",
            "Epoch 6/100\n",
            "1/1 [==============================] - 0s 8ms/step - loss: 9.1766 - mae: 9.1766\n",
            "Epoch 7/100\n",
            "1/1 [==============================] - 0s 5ms/step - loss: 8.5501 - mae: 8.5501\n",
            "Epoch 8/100\n",
            "1/1 [==============================] - 0s 11ms/step - loss: 7.8975 - mae: 7.8975\n",
            "Epoch 9/100\n",
            "1/1 [==============================] - 0s 5ms/step - loss: 7.2212 - mae: 7.2212\n",
            "Epoch 10/100\n",
            "1/1 [==============================] - 0s 8ms/step - loss: 6.5189 - mae: 6.5189\n",
            "Epoch 11/100\n",
            "1/1 [==============================] - 0s 7ms/step - loss: 5.7849 - mae: 5.7849\n",
            "Epoch 12/100\n",
            "1/1 [==============================] - 0s 6ms/step - loss: 5.0168 - mae: 5.0168\n",
            "Epoch 13/100\n",
            "1/1 [==============================] - 0s 10ms/step - loss: 4.2130 - mae: 4.2130\n",
            "Epoch 14/100\n",
            "1/1 [==============================] - 0s 8ms/step - loss: 3.7918 - mae: 3.7918\n",
            "Epoch 15/100\n",
            "1/1 [==============================] - 0s 6ms/step - loss: 3.8036 - mae: 3.8036\n",
            "Epoch 16/100\n",
            "1/1 [==============================] - 0s 6ms/step - loss: 3.9409 - mae: 3.9409\n",
            "Epoch 17/100\n",
            "1/1 [==============================] - 0s 6ms/step - loss: 4.2122 - mae: 4.2122\n",
            "Epoch 18/100\n",
            "1/1 [==============================] - 0s 6ms/step - loss: 4.4690 - mae: 4.4690\n",
            "Epoch 19/100\n",
            "1/1 [==============================] - 0s 6ms/step - loss: 4.6243 - mae: 4.6243\n",
            "Epoch 20/100\n",
            "1/1 [==============================] - 0s 7ms/step - loss: 4.6902 - mae: 4.6902\n",
            "Epoch 21/100\n",
            "1/1 [==============================] - 0s 7ms/step - loss: 4.6765 - mae: 4.6765\n",
            "Epoch 22/100\n",
            "1/1 [==============================] - 0s 5ms/step - loss: 4.5910 - mae: 4.5910\n",
            "Epoch 23/100\n",
            "1/1 [==============================] - 0s 6ms/step - loss: 4.4482 - mae: 4.4482\n",
            "Epoch 24/100\n",
            "1/1 [==============================] - 0s 5ms/step - loss: 4.2555 - mae: 4.2555\n",
            "Epoch 25/100\n",
            "1/1 [==============================] - 0s 7ms/step - loss: 4.0193 - mae: 4.0193\n",
            "Epoch 26/100\n",
            "1/1 [==============================] - 0s 7ms/step - loss: 3.7480 - mae: 3.7480\n",
            "Epoch 27/100\n",
            "1/1 [==============================] - 0s 7ms/step - loss: 3.5559 - mae: 3.5559\n",
            "Epoch 28/100\n",
            "1/1 [==============================] - 0s 5ms/step - loss: 3.4220 - mae: 3.4220\n",
            "Epoch 29/100\n",
            "1/1 [==============================] - 0s 5ms/step - loss: 3.3139 - mae: 3.3139\n",
            "Epoch 30/100\n",
            "1/1 [==============================] - 0s 5ms/step - loss: 3.1887 - mae: 3.1887\n",
            "Epoch 31/100\n",
            "1/1 [==============================] - 0s 6ms/step - loss: 3.2088 - mae: 3.2088\n",
            "Epoch 32/100\n",
            "1/1 [==============================] - 0s 6ms/step - loss: 3.2398 - mae: 3.2398\n",
            "Epoch 33/100\n",
            "1/1 [==============================] - 0s 7ms/step - loss: 3.2391 - mae: 3.2391\n",
            "Epoch 34/100\n",
            "1/1 [==============================] - 0s 12ms/step - loss: 3.2048 - mae: 3.2048\n",
            "Epoch 35/100\n",
            "1/1 [==============================] - 0s 9ms/step - loss: 3.1406 - mae: 3.1406\n",
            "Epoch 36/100\n",
            "1/1 [==============================] - 0s 6ms/step - loss: 3.0458 - mae: 3.0458\n",
            "Epoch 37/100\n",
            "1/1 [==============================] - 0s 6ms/step - loss: 2.9210 - mae: 2.9210\n",
            "Epoch 38/100\n",
            "1/1 [==============================] - 0s 9ms/step - loss: 2.7805 - mae: 2.7805\n",
            "Epoch 39/100\n",
            "1/1 [==============================] - 0s 6ms/step - loss: 2.6580 - mae: 2.6580\n",
            "Epoch 40/100\n",
            "1/1 [==============================] - 0s 6ms/step - loss: 2.6350 - mae: 2.6350\n",
            "Epoch 41/100\n",
            "1/1 [==============================] - 0s 7ms/step - loss: 2.5933 - mae: 2.5933\n",
            "Epoch 42/100\n",
            "1/1 [==============================] - 0s 10ms/step - loss: 2.5379 - mae: 2.5379\n",
            "Epoch 43/100\n",
            "1/1 [==============================] - 0s 7ms/step - loss: 2.4602 - mae: 2.4602\n",
            "Epoch 44/100\n",
            "1/1 [==============================] - 0s 9ms/step - loss: 2.3688 - mae: 2.3688\n",
            "Epoch 45/100\n",
            "1/1 [==============================] - 0s 7ms/step - loss: 2.2731 - mae: 2.2731\n",
            "Epoch 46/100\n",
            "1/1 [==============================] - 0s 6ms/step - loss: 2.1658 - mae: 2.1658\n",
            "Epoch 47/100\n",
            "1/1 [==============================] - 0s 6ms/step - loss: 2.0423 - mae: 2.0423\n",
            "Epoch 48/100\n",
            "1/1 [==============================] - 0s 10ms/step - loss: 1.9041 - mae: 1.9041\n",
            "Epoch 49/100\n",
            "1/1 [==============================] - 0s 6ms/step - loss: 1.8348 - mae: 1.8348\n",
            "Epoch 50/100\n",
            "1/1 [==============================] - 0s 7ms/step - loss: 1.7306 - mae: 1.7306\n",
            "Epoch 51/100\n",
            "1/1 [==============================] - 0s 6ms/step - loss: 1.5589 - mae: 1.5589\n",
            "Epoch 52/100\n",
            "1/1 [==============================] - 0s 10ms/step - loss: 1.3989 - mae: 1.3989\n",
            "Epoch 53/100\n",
            "1/1 [==============================] - 0s 6ms/step - loss: 1.2861 - mae: 1.2861\n",
            "Epoch 54/100\n",
            "1/1 [==============================] - 0s 6ms/step - loss: 1.1607 - mae: 1.1607\n",
            "Epoch 55/100\n",
            "1/1 [==============================] - 0s 6ms/step - loss: 1.0475 - mae: 1.0475\n",
            "Epoch 56/100\n",
            "1/1 [==============================] - 0s 9ms/step - loss: 0.8675 - mae: 0.8675\n",
            "Epoch 57/100\n",
            "1/1 [==============================] - 0s 9ms/step - loss: 0.6940 - mae: 0.6940\n",
            "Epoch 58/100\n",
            "1/1 [==============================] - 0s 9ms/step - loss: 0.5022 - mae: 0.5022\n",
            "Epoch 59/100\n",
            "1/1 [==============================] - 0s 6ms/step - loss: 0.3357 - mae: 0.3357\n",
            "Epoch 60/100\n",
            "1/1 [==============================] - 0s 6ms/step - loss: 0.3243 - mae: 0.3243\n",
            "Epoch 61/100\n",
            "1/1 [==============================] - 0s 10ms/step - loss: 0.3657 - mae: 0.3657\n",
            "Epoch 62/100\n",
            "1/1 [==============================] - 0s 10ms/step - loss: 0.3619 - mae: 0.3619\n",
            "Epoch 63/100\n",
            "1/1 [==============================] - 0s 6ms/step - loss: 0.4012 - mae: 0.4012\n",
            "Epoch 64/100\n",
            "1/1 [==============================] - 0s 6ms/step - loss: 0.5232 - mae: 0.5232\n",
            "Epoch 65/100\n",
            "1/1 [==============================] - 0s 6ms/step - loss: 0.5746 - mae: 0.5746\n",
            "Epoch 66/100\n",
            "1/1 [==============================] - 0s 6ms/step - loss: 0.4956 - mae: 0.4956\n",
            "Epoch 67/100\n",
            "1/1 [==============================] - 0s 7ms/step - loss: 0.4449 - mae: 0.4449\n",
            "Epoch 68/100\n",
            "1/1 [==============================] - 0s 6ms/step - loss: 0.5433 - mae: 0.5433\n",
            "Epoch 69/100\n",
            "1/1 [==============================] - 0s 6ms/step - loss: 0.5734 - mae: 0.5734\n",
            "Epoch 70/100\n",
            "1/1 [==============================] - 0s 6ms/step - loss: 0.4295 - mae: 0.4295\n",
            "Epoch 71/100\n",
            "1/1 [==============================] - 0s 6ms/step - loss: 0.5688 - mae: 0.5688\n",
            "Epoch 72/100\n",
            "1/1 [==============================] - 0s 12ms/step - loss: 0.4048 - mae: 0.4048\n",
            "Epoch 73/100\n",
            "1/1 [==============================] - 0s 12ms/step - loss: 0.3934 - mae: 0.3934\n",
            "Epoch 74/100\n",
            "1/1 [==============================] - 0s 6ms/step - loss: 0.3408 - mae: 0.3408\n",
            "Epoch 75/100\n",
            "1/1 [==============================] - 0s 7ms/step - loss: 0.2311 - mae: 0.2311\n",
            "Epoch 76/100\n",
            "1/1 [==============================] - 0s 8ms/step - loss: 0.3077 - mae: 0.3077\n",
            "Epoch 77/100\n",
            "1/1 [==============================] - 0s 7ms/step - loss: 0.2326 - mae: 0.2326\n",
            "Epoch 78/100\n",
            "1/1 [==============================] - 0s 13ms/step - loss: 0.2083 - mae: 0.2083\n",
            "Epoch 79/100\n",
            "1/1 [==============================] - 0s 8ms/step - loss: 0.2032 - mae: 0.2032\n",
            "Epoch 80/100\n",
            "1/1 [==============================] - 0s 14ms/step - loss: 0.2116 - mae: 0.2116\n",
            "Epoch 81/100\n",
            "1/1 [==============================] - 0s 10ms/step - loss: 0.2325 - mae: 0.2325\n",
            "Epoch 82/100\n",
            "1/1 [==============================] - 0s 12ms/step - loss: 0.2109 - mae: 0.2109\n",
            "Epoch 83/100\n",
            "1/1 [==============================] - 0s 12ms/step - loss: 0.2160 - mae: 0.2160\n",
            "Epoch 84/100\n",
            "1/1 [==============================] - 0s 21ms/step - loss: 0.2056 - mae: 0.2056\n",
            "Epoch 85/100\n",
            "1/1 [==============================] - 0s 9ms/step - loss: 0.1736 - mae: 0.1736\n",
            "Epoch 86/100\n",
            "1/1 [==============================] - 0s 7ms/step - loss: 0.1832 - mae: 0.1832\n",
            "Epoch 87/100\n",
            "1/1 [==============================] - 0s 11ms/step - loss: 0.1155 - mae: 0.1155\n",
            "Epoch 88/100\n",
            "1/1 [==============================] - 0s 10ms/step - loss: 0.2055 - mae: 0.2055\n",
            "Epoch 89/100\n",
            "1/1 [==============================] - 0s 6ms/step - loss: 0.1081 - mae: 0.1081\n",
            "Epoch 90/100\n",
            "1/1 [==============================] - 0s 43ms/step - loss: 0.1553 - mae: 0.1553\n",
            "Epoch 91/100\n",
            "1/1 [==============================] - 0s 12ms/step - loss: 0.2241 - mae: 0.2241\n",
            "Epoch 92/100\n",
            "1/1 [==============================] - 0s 10ms/step - loss: 0.2172 - mae: 0.2172\n",
            "Epoch 93/100\n",
            "1/1 [==============================] - 0s 10ms/step - loss: 0.1711 - mae: 0.1711\n",
            "Epoch 94/100\n",
            "1/1 [==============================] - 0s 7ms/step - loss: 0.1225 - mae: 0.1225\n",
            "Epoch 95/100\n",
            "1/1 [==============================] - 0s 5ms/step - loss: 0.1153 - mae: 0.1153\n",
            "Epoch 96/100\n",
            "1/1 [==============================] - 0s 5ms/step - loss: 0.2103 - mae: 0.2103\n",
            "Epoch 97/100\n",
            "1/1 [==============================] - 0s 8ms/step - loss: 0.0981 - mae: 0.0981\n",
            "Epoch 98/100\n",
            "1/1 [==============================] - 0s 11ms/step - loss: 0.0785 - mae: 0.0785\n",
            "Epoch 99/100\n",
            "1/1 [==============================] - 0s 13ms/step - loss: 0.0865 - mae: 0.0865\n",
            "Epoch 100/100\n",
            "1/1 [==============================] - 0s 6ms/step - loss: 0.1931 - mae: 0.1931\n"
          ],
          "name": "stdout"
        },
        {
          "output_type": "execute_result",
          "data": {
            "text/plain": [
              "<tensorflow.python.keras.callbacks.History at 0x7f65c054e450>"
            ]
          },
          "metadata": {
            "tags": []
          },
          "execution_count": 7
        }
      ]
    },
    {
      "cell_type": "code",
      "metadata": {
        "colab": {
          "base_uri": "https://localhost:8080/"
        },
        "id": "y-rZZO5Tg_vK",
        "outputId": "1a6a9b67-a1a6-4628-fd98-65110dbcf20e"
      },
      "source": [
        "model.predict([17.0])"
      ],
      "execution_count": 8,
      "outputs": [
        {
          "output_type": "execute_result",
          "data": {
            "text/plain": [
              "array([[27.445185]], dtype=float32)"
            ]
          },
          "metadata": {
            "tags": []
          },
          "execution_count": 8
        }
      ]
    },
    {
      "cell_type": "code",
      "metadata": {
        "colab": {
          "base_uri": "https://localhost:8080/"
        },
        "id": "x0mg21QrhyjJ",
        "outputId": "fdb11a4c-6038-49dc-dcde-658b1725b045"
      },
      "source": [
        "model.get_weights()"
      ],
      "execution_count": 9,
      "outputs": [
        {
          "output_type": "execute_result",
          "data": {
            "text/plain": [
              "[array([[-3.8824254e-03, -2.5547588e-02, -1.7299415e-01, -1.8525349e-01,\n",
              "          4.9262688e-02,  1.9888817e-01, -1.8258259e-02, -9.5398679e-02,\n",
              "          8.1474669e-02, -1.9995506e-01, -1.5822317e-01, -1.8612480e-01,\n",
              "         -1.0974350e-02, -6.4083874e-02, -6.6165969e-02,  1.4183927e-01,\n",
              "         -2.6450813e-01,  1.5505183e-01, -8.2905181e-02, -4.2849788e-04,\n",
              "         -2.5256751e-03, -1.5920926e-02,  7.2068095e-02,  3.0501160e-01,\n",
              "         -1.7955309e-01, -2.3547608e-01, -4.9581360e-02, -1.2821521e-01,\n",
              "         -1.3237862e-02, -1.8653724e-02,  2.6114643e-01, -7.5974739e-03,\n",
              "         -8.1608616e-02,  1.8528646e-01, -1.4031653e-01, -1.5908416e-01,\n",
              "          1.2798537e-01,  3.1208856e-02, -1.0831624e-01, -2.9332951e-02,\n",
              "          1.7887396e-01,  2.7610347e-01, -1.1741794e-02,  2.5516942e-01,\n",
              "          2.9561612e-01, -2.1975993e-01,  2.7543190e-03, -9.5182927e-03,\n",
              "          2.0005238e-01,  9.8535810e-03, -2.2219445e-01, -1.1429572e-02,\n",
              "         -1.8720856e-01, -2.0580052e-04, -1.6199721e-01,  3.2332075e-01,\n",
              "         -1.1759285e-01,  1.6447602e-01, -1.7822877e-01, -1.7701778e-01,\n",
              "          1.6260181e-01,  3.8010132e-02, -8.9334091e-03,  1.3749585e-02,\n",
              "          2.1313596e-01, -1.5820605e-03,  1.5498908e-01, -2.6418087e-01,\n",
              "         -1.4503317e-01, -2.3160233e-01, -1.3696069e-01, -5.5783929e-04,\n",
              "          1.8553764e-02,  1.3496758e-01,  7.9577535e-02, -2.2192597e-02,\n",
              "          2.7250797e-01, -8.9166887e-02, -6.6118618e-04, -3.0506041e-02,\n",
              "         -4.0058449e-02, -2.4285978e-03, -2.7165711e-01,  2.8923947e-01,\n",
              "          6.5335236e-02, -5.3321025e-03,  2.9672763e-01,  6.1599303e-02,\n",
              "          6.7255780e-02,  1.8853359e-02, -5.8975805e-02,  6.1819260e-03,\n",
              "         -2.0685053e-01,  4.0919207e-02, -1.4481011e-01, -2.5540802e-01,\n",
              "         -1.8836272e-01,  9.5102313e-04, -2.2913785e-01, -3.7481569e-02]],\n",
              "       dtype=float32),\n",
              " array([-0.09919256, -0.21261999, -0.06208004, -0.04860446,  0.65473247,\n",
              "         0.40292135,  0.66441804, -0.2271162 ,  0.48664677,  0.42492408,\n",
              "        -0.00617787, -0.05119418,  0.6678638 , -0.21831481, -0.11822031,\n",
              "         0.41481155, -0.12684189,  0.4115567 , -0.24626905, -0.20032543,\n",
              "         0.57203335,  0.6851451 ,  0.49372643,  0.37363887, -0.01928709,\n",
              "        -0.3926667 , -0.20468308, -0.29029813,  0.54853445,  0.67450416,\n",
              "         0.3753247 ,  0.31078118, -0.20946847,  0.3772573 , -0.31602785,\n",
              "         0.45132062,  0.41992074, -0.20858589, -0.23712155, -0.2063821 ,\n",
              "        -0.39133766,  0.39060155,  0.7190135 ,  0.37861896,  0.36456224,\n",
              "        -0.08360319,  0.6254839 , -0.29070005,  0.4006785 ,  0.69470835,\n",
              "        -0.3991315 ,  0.61127466, -0.05143874,  0.66808635,  0.45790112,\n",
              "         0.3505954 ,  0.488555  ,  0.42093724, -0.03940143, -0.05378798,\n",
              "         0.41104135,  0.5207188 ,  0.67478985,  0.65398735,  0.40281376,\n",
              "         0.5783017 ,  0.4175437 , -0.12271697, -0.02975517, -0.3990283 ,\n",
              "        -0.3029183 , -0.10133893,  0.62959206,  0.39225712,  0.48628002,\n",
              "        -0.1993376 ,  0.38419527, -0.06559606,  0.14524052,  0.7292256 ,\n",
              "         0.6771855 ,  0.6695398 , -0.15513091,  0.38919494,  0.5008392 ,\n",
              "         0.6881608 ,  0.37326136,  0.5063018 ,  0.4826093 , -0.11476767,\n",
              "        -0.21387525,  0.6780366 , -0.07379442,  0.6787868 ,  0.46948805,\n",
              "        -0.10827976,  0.43244103,  0.66719836, -0.396591  ,  0.6405426 ],\n",
              "       dtype=float32),\n",
              " array([[-0.0776403 ],\n",
              "        [ 0.06028359],\n",
              "        [-0.2813016 ],\n",
              "        [-0.24961184],\n",
              "        [ 0.28912088],\n",
              "        [ 0.2955177 ],\n",
              "        [ 0.4223055 ],\n",
              "        [-0.11817112],\n",
              "        [ 0.27893057],\n",
              "        [ 0.25068077],\n",
              "        [-0.06736872],\n",
              "        [-0.17514148],\n",
              "        [ 0.46632245],\n",
              "        [-0.08248142],\n",
              "        [ 0.06508433],\n",
              "        [ 0.2799302 ],\n",
              "        [-0.28467587],\n",
              "        [ 0.2809425 ],\n",
              "        [-0.2516476 ],\n",
              "        [ 0.01135435],\n",
              "        [ 0.18351603],\n",
              "        [ 0.38630596],\n",
              "        [ 0.12694271],\n",
              "        [ 0.19473867],\n",
              "        [-0.09697786],\n",
              "        [-0.28236288],\n",
              "        [-0.05632491],\n",
              "        [-0.28245875],\n",
              "        [ 0.2753172 ],\n",
              "        [ 0.6162084 ],\n",
              "        [ 0.33625725],\n",
              "        [ 0.06668432],\n",
              "        [-0.05592768],\n",
              "        [ 0.0991368 ],\n",
              "        [-0.29501772],\n",
              "        [ 0.2628324 ],\n",
              "        [ 0.26676005],\n",
              "        [-0.01855263],\n",
              "        [-0.22309583],\n",
              "        [ 0.00610235],\n",
              "        [-0.30663654],\n",
              "        [ 0.11330882],\n",
              "        [ 0.39868066],\n",
              "        [ 0.33359334],\n",
              "        [ 0.31736362],\n",
              "        [-0.12083044],\n",
              "        [ 0.45494202],\n",
              "        [ 0.07761305],\n",
              "        [ 0.3296195 ],\n",
              "        [ 0.57296324],\n",
              "        [-0.15605493],\n",
              "        [ 0.1600054 ],\n",
              "        [-0.21450058],\n",
              "        [ 0.5440698 ],\n",
              "        [ 0.1685177 ],\n",
              "        [ 0.3255023 ],\n",
              "        [ 0.16406658],\n",
              "        [ 0.17085138],\n",
              "        [-0.1044189 ],\n",
              "        [-0.39316544],\n",
              "        [ 0.27407202],\n",
              "        [ 0.13929948],\n",
              "        [ 0.5089147 ],\n",
              "        [ 0.2741848 ],\n",
              "        [ 0.24823827],\n",
              "        [ 0.20753697],\n",
              "        [ 0.21360292],\n",
              "        [-0.2578459 ],\n",
              "        [-0.28831938],\n",
              "        [-0.21671191],\n",
              "        [-0.36333612],\n",
              "        [-0.1136275 ],\n",
              "        [ 0.46435648],\n",
              "        [ 0.09857539],\n",
              "        [ 0.28053585],\n",
              "        [ 0.08016291],\n",
              "        [ 0.20418586],\n",
              "        [-0.08620603],\n",
              "        [ 0.02069509],\n",
              "        [ 0.4109818 ],\n",
              "        [ 0.6509063 ],\n",
              "        [ 0.49377987],\n",
              "        [-0.25815886],\n",
              "        [ 0.12948626],\n",
              "        [ 0.2629277 ],\n",
              "        [ 0.34419128],\n",
              "        [ 0.22049229],\n",
              "        [ 0.28077778],\n",
              "        [ 0.11140865],\n",
              "        [ 0.00331362],\n",
              "        [-0.02411908],\n",
              "        [ 0.37652993],\n",
              "        [-0.10540552],\n",
              "        [ 0.3214368 ],\n",
              "        [ 0.17362992],\n",
              "        [-0.2889446 ],\n",
              "        [ 0.2494706 ],\n",
              "        [ 0.5498902 ],\n",
              "        [-0.20394813],\n",
              "        [ 0.5708872 ]], dtype=float32),\n",
              " array([0.43382308], dtype=float32)]"
            ]
          },
          "metadata": {
            "tags": []
          },
          "execution_count": 9
        }
      ]
    },
    {
      "cell_type": "markdown",
      "metadata": {
        "id": "CJXVbkl8hY-4"
      },
      "source": [
        "#### Common ways to improve a deep model\n",
        "1. Adding layers\n",
        "2. Incrase the numer unit\n",
        "3. change activate fnc\n",
        "4. Change optimazation \n",
        "5. fitting more data\n",
        "**Learning reate is importance hyperparameter is in ANN**"
      ]
    },
    {
      "cell_type": "markdown",
      "metadata": {
        "id": "Q5cXDMvHlbAu"
      },
      "source": [
        "### Evaluating \n",
        "In practicves, a typical workflow you'll go through  when nuilding neural networkds is\n",
        "```\n",
        "Build a model -> fit it -> evaluate -> tweak a model -> fit it ...\n",
        "```\n"
      ]
    },
    {
      "cell_type": "markdown",
      "metadata": {
        "id": "E4j6FFaxnNNG"
      },
      "source": [
        "When it come to evaluation... there are 3 words you shou memirze:\n",
        "> \"Visuzlize , viz , viz\"\n",
        "\n",
        "It's goo idel to visualize:\n",
        "* The data - what data are we weworking with? What does it look like ? \n",
        "* The model its slef - What does our model look like \n",
        "* The trainning of a model -> how does a model perform while it learns\n",
        "* The predictions of the model- how do the prediction model line up agains the ground truth"
      ]
    },
    {
      "cell_type": "code",
      "metadata": {
        "colab": {
          "base_uri": "https://localhost:8080/"
        },
        "id": "QSk8Kt-hnzmp",
        "outputId": "939fc4ce-aa63-4b95-94b7-6016b89526b1"
      },
      "source": [
        "# dataset bigger\n",
        "X = tf.range(-100,100,4)\n",
        "X"
      ],
      "execution_count": 10,
      "outputs": [
        {
          "output_type": "execute_result",
          "data": {
            "text/plain": [
              "<tf.Tensor: shape=(50,), dtype=int32, numpy=\n",
              "array([-100,  -96,  -92,  -88,  -84,  -80,  -76,  -72,  -68,  -64,  -60,\n",
              "        -56,  -52,  -48,  -44,  -40,  -36,  -32,  -28,  -24,  -20,  -16,\n",
              "        -12,   -8,   -4,    0,    4,    8,   12,   16,   20,   24,   28,\n",
              "         32,   36,   40,   44,   48,   52,   56,   60,   64,   68,   72,\n",
              "         76,   80,   84,   88,   92,   96], dtype=int32)>"
            ]
          },
          "metadata": {
            "tags": []
          },
          "execution_count": 10
        }
      ]
    },
    {
      "cell_type": "code",
      "metadata": {
        "id": "amDof3Bpn2qz"
      },
      "source": [
        "#Make labesl for dataset\n",
        "y = X + 10"
      ],
      "execution_count": 11,
      "outputs": []
    },
    {
      "cell_type": "code",
      "metadata": {
        "colab": {
          "base_uri": "https://localhost:8080/",
          "height": 282
        },
        "id": "MES60ntvn_b0",
        "outputId": "7c0e3028-481a-4a37-bda9-18f3131b5743"
      },
      "source": [
        "# visualize the data\n",
        "plt.scatter(X,y)"
      ],
      "execution_count": 12,
      "outputs": [
        {
          "output_type": "execute_result",
          "data": {
            "text/plain": [
              "<matplotlib.collections.PathCollection at 0x7f65c0376890>"
            ]
          },
          "metadata": {
            "tags": []
          },
          "execution_count": 12
        },
        {
          "output_type": "display_data",
          "data": {
            "image/png": "[encoded data removed]",
            "text/plain": [
              "<Figure size 432x288 with 1 Axes>"
            ]
          },
          "metadata": {
            "tags": [],
            "needs_background": "light"
          }
        }
      ]
    },
    {
      "cell_type": "markdown",
      "metadata": {
        "id": "uwEbz0aDoHIr"
      },
      "source": [
        "### The 3 sets  \n",
        "* Trainning set - the model learn form this data, \n",
        "* Validation set  the model được điều chỉnh trong data này \n",
        "* test set -> the model evaluated what is has leand"
      ]
    },
    {
      "cell_type": "code",
      "metadata": {
        "id": "nY_RG9ympF_s"
      },
      "source": [
        "X_train = X[:40]\n",
        "y_train = y[:40]\n",
        "\n",
        "X_test = X[40:]\n",
        "y_test = y[40:]\n",
        "\n"
      ],
      "execution_count": 13,
      "outputs": []
    },
    {
      "cell_type": "markdown",
      "metadata": {
        "id": "eVbe-4HNphzn"
      },
      "source": [
        "### Viz the data \n",
        "Now wwe have the training and test set .. let's viz it "
      ]
    },
    {
      "cell_type": "code",
      "metadata": {
        "colab": {
          "base_uri": "https://localhost:8080/",
          "height": 428
        },
        "id": "k2l9PCFVpmmf",
        "outputId": "00c48b98-da62-4e21-cb50-62aac24ba9f0"
      },
      "source": [
        "plt.figure(figsize=(10,7))\n",
        "plt.scatter(X_train,y_train,c=\"b\",label=\"Training data\")\n",
        "plt.scatter(X_test,y_test,c=\"g\",label=\"Testing data\")\n",
        "# Show legend\n",
        "plt.legend();"
      ],
      "execution_count": 14,
      "outputs": [
        {
          "output_type": "display_data",
          "data": {
            "image/png": "[encoded data removed]",
            "text/plain": [
              "<Figure size 720x504 with 1 Axes>"
            ]
          },
          "metadata": {
            "tags": [],
            "needs_background": "light"
          }
        }
      ]
    },
    {
      "cell_type": "code",
      "metadata": {
        "id": "tLb9Zxchp3UW"
      },
      "source": [
        "# Basic model\n",
        "model = keras.Sequential([\n",
        "                          tf.keras.layers.Dense(1)\n",
        "])\n",
        "model.compile(loss=tf.keras.losses.mae,\n",
        "              optimizer= tf.keras.optimizers.SGD(),\n",
        "              metrics=['mae'])\n"
      ],
      "execution_count": 15,
      "outputs": []
    },
    {
      "cell_type": "markdown",
      "metadata": {
        "id": "MN-Fc5usqhc3"
      },
      "source": [
        "### Viz the Model"
      ]
    },
    {
      "cell_type": "code",
      "metadata": {
        "id": "Zu0KGBi6qi6w"
      },
      "source": [
        "# Let's crea a model which builds automatically by defining the input_shape arguments \n",
        "tf.random.set_seed(42)\n",
        "# 1. \n",
        "model = keras.Sequential([\n",
        "                          keras.layers.Dense(10,input_shape=[1],name=\"input_layer\"),\n",
        "                          keras.layers.Dense(1,name='output_layers')\n",
        "],name='Model_1')\n",
        "model.compile(loss=tf.keras.losses.mae,\n",
        "              optimizer=tf.keras.optimizers.SGD(),\n",
        "              metrics=['mae'])\n"
      ],
      "execution_count": 16,
      "outputs": []
    },
    {
      "cell_type": "code",
      "metadata": {
        "colab": {
          "base_uri": "https://localhost:8080/"
        },
        "id": "fiYPAS37rfN6",
        "outputId": "8a777aad-d3a9-49b0-8b1c-44da65765276"
      },
      "source": [
        "model.summary()"
      ],
      "execution_count": 17,
      "outputs": [
        {
          "output_type": "stream",
          "text": [
            "Model: \"Model_1\"\n",
            "_________________________________________________________________\n",
            "Layer (type)                 Output Shape              Param #   \n",
            "=================================================================\n",
            "input_layer (Dense)          (None, 10)                20        \n",
            "_________________________________________________________________\n",
            "output_layers (Dense)        (None, 1)                 11        \n",
            "=================================================================\n",
            "Total params: 31\n",
            "Trainable params: 31\n",
            "Non-trainable params: 0\n",
            "_________________________________________________________________\n"
          ],
          "name": "stdout"
        }
      ]
    },
    {
      "cell_type": "markdown",
      "metadata": {
        "id": "c1WvWtklrl9_"
      },
      "source": [
        "* Total params- total number của parametes trong model\n",
        "* Trainable parameters- these arre the parrameters (parrtens) that model can iupdate\n",
        "* None-trainalbel params - these parametesr aren't update during training (typical when u train orther model **transfer learning**)\n"
      ]
    },
    {
      "cell_type": "code",
      "metadata": {
        "colab": {
          "base_uri": "https://localhost:8080/"
        },
        "id": "eSms_Jaducou",
        "outputId": "a38fa0e8-426f-4667-c263-62a228be1877"
      },
      "source": [
        "model.fit(X_train,y_train,epochs=100,verbose=0)"
      ],
      "execution_count": 18,
      "outputs": [
        {
          "output_type": "execute_result",
          "data": {
            "text/plain": [
              "<tensorflow.python.keras.callbacks.History at 0x7f65c00ff450>"
            ]
          },
          "metadata": {
            "tags": []
          },
          "execution_count": 18
        }
      ]
    },
    {
      "cell_type": "code",
      "metadata": {
        "colab": {
          "base_uri": "https://localhost:8080/"
        },
        "id": "lr1oCwBUvlcH",
        "outputId": "56b7e12c-2f82-4817-f25a-c4d2f53348d0"
      },
      "source": [
        "model.summary()"
      ],
      "execution_count": 19,
      "outputs": [
        {
          "output_type": "stream",
          "text": [
            "Model: \"Model_1\"\n",
            "_________________________________________________________________\n",
            "Layer (type)                 Output Shape              Param #   \n",
            "=================================================================\n",
            "input_layer (Dense)          (None, 10)                20        \n",
            "_________________________________________________________________\n",
            "output_layers (Dense)        (None, 1)                 11        \n",
            "=================================================================\n",
            "Total params: 31\n",
            "Trainable params: 31\n",
            "Non-trainable params: 0\n",
            "_________________________________________________________________\n"
          ],
          "name": "stdout"
        }
      ]
    },
    {
      "cell_type": "code",
      "metadata": {
        "colab": {
          "base_uri": "https://localhost:8080/",
          "height": 312
        },
        "id": "ozNGUoTUv_G5",
        "outputId": "4a02fd4f-d7ee-4cc8-b9ea-41c6331c93f8"
      },
      "source": [
        "from tensorflow.keras.utils import plot_model\n",
        "plot_model(model=model,show_shapes=True)"
      ],
      "execution_count": 20,
      "outputs": [
        {
          "output_type": "execute_result",
          "data": {
            "image/png": "[encoded data removed]",
            "text/plain": [
              "<IPython.core.display.Image object>"
            ]
          },
          "metadata": {
            "tags": []
          },
          "execution_count": 20
        }
      ]
    },
    {
      "cell_type": "markdown",
      "metadata": {
        "id": "u8izx2YdwWLn"
      },
      "source": [
        "#### Viz our models' predictions\n",
        "\n",
        "To viz, predition, it's good ideal to plot them agains to ground truth labels\n",
        "of ten you'll see this form of `y_test`or `y_true` vs`y_pred`"
      ]
    },
    {
      "cell_type": "code",
      "metadata": {
        "colab": {
          "base_uri": "https://localhost:8080/"
        },
        "id": "bdjltO9byVlH",
        "outputId": "1db6cea0-4254-4d8b-8753-57681a530bcb"
      },
      "source": [
        "y_pred = model.predict(X_test)\n",
        "y_pred"
      ],
      "execution_count": 21,
      "outputs": [
        {
          "output_type": "execute_result",
          "data": {
            "text/plain": [
              "array([[ 70.55221 ],\n",
              "       [ 75.13992 ],\n",
              "       [ 79.72765 ],\n",
              "       [ 84.31538 ],\n",
              "       [ 88.9031  ],\n",
              "       [ 93.49082 ],\n",
              "       [ 98.07855 ],\n",
              "       [102.666275],\n",
              "       [107.254005],\n",
              "       [111.84173 ]], dtype=float32)"
            ]
          },
          "metadata": {
            "tags": []
          },
          "execution_count": 21
        }
      ]
    },
    {
      "cell_type": "code",
      "metadata": {
        "colab": {
          "base_uri": "https://localhost:8080/"
        },
        "id": "WwLd_Ff5y3sc",
        "outputId": "62e2983d-4aee-4fe8-9437-a4210cbf47e9"
      },
      "source": [
        "y_test"
      ],
      "execution_count": 22,
      "outputs": [
        {
          "output_type": "execute_result",
          "data": {
            "text/plain": [
              "<tf.Tensor: shape=(10,), dtype=int32, numpy=array([ 70,  74,  78,  82,  86,  90,  94,  98, 102, 106], dtype=int32)>"
            ]
          },
          "metadata": {
            "tags": []
          },
          "execution_count": 22
        }
      ]
    },
    {
      "cell_type": "code",
      "metadata": {
        "colab": {
          "base_uri": "https://localhost:8080/",
          "height": 428
        },
        "id": "5EREtQZMy7dE",
        "outputId": "ba047d3c-514a-43e7-a55c-4da0eaa5aa81"
      },
      "source": [
        "def plot_prediction(train_data=X_train,\n",
        "                    train_labels= y_train,\n",
        "                    test_data=X_test,\n",
        "                    test_labesl=y_test,\n",
        "                    predictions=y_pred):\n",
        "  \"\"\"\n",
        "  Plots training data, testdata and compares predicitons to ground truth labels\n",
        "  \"\"\"\n",
        "  plt.figure(figsize=(10,7))\n",
        "  #plot trainning data in blue\n",
        "  plt.scatter(train_data,train_labels,c=\"b\",label=\"Trainning data\")\n",
        "  # Plot test data in green\n",
        "  plt.scatter(test_data,test_labesl,c=\"g\",label=\"Testdata data\")\n",
        "  # Plot model predctions in red\n",
        "  plt.scatter(test_data,predictions,c=\"r\",label=\"Prediction data\")\n",
        "  plt.legend()\n",
        "plot_prediction()"
      ],
      "execution_count": 23,
      "outputs": [
        {
          "output_type": "display_data",
          "data": {
            "image/png": "[encoded data removed]",
            "text/plain": [
              "<Figure size 720x504 with 1 Axes>"
            ]
          },
          "metadata": {
            "tags": [],
            "needs_background": "light"
          }
        }
      ]
    },
    {
      "cell_type": "markdown",
      "metadata": {
        "id": "7pwIL89Q5ZmG"
      },
      "source": [
        "### Evaluation our model's prediction with regression metrics\n",
        "Depending on the problem you're workng on, the will be different_evaluation metrics to evaluation\n",
        "* MAE- mean absolute erorr: Swur\n",
        "* MSE - MSE\n",
        "* Huber - kết hợp cả MAE và MSE nó ít nhạy cảm với giá trị ngoại lai \n"
      ]
    },
    {
      "cell_type": "code",
      "metadata": {
        "colab": {
          "base_uri": "https://localhost:8080/"
        },
        "id": "Sf7cRTGr6YCS",
        "outputId": "96695931-b837-4906-d6ad-83b12a921fca"
      },
      "source": [
        "model.evaluate(X_test,y_test)"
      ],
      "execution_count": 24,
      "outputs": [
        {
          "output_type": "stream",
          "text": [
            "1/1 [==============================] - 0s 131ms/step - loss: 3.1970 - mae: 3.1970\n"
          ],
          "name": "stdout"
        },
        {
          "output_type": "execute_result",
          "data": {
            "text/plain": [
              "[3.1969642639160156, 3.1969642639160156]"
            ]
          },
          "metadata": {
            "tags": []
          },
          "execution_count": 24
        }
      ]
    },
    {
      "cell_type": "code",
      "metadata": {
        "colab": {
          "base_uri": "https://localhost:8080/"
        },
        "id": "aFx-JoR1z1hW",
        "outputId": "6c9ab195-1349-48cd-c44a-15efa8933cdf"
      },
      "source": [
        "tf.metrics.mean_absolute_error(y_test,tf.squeeze(y_pred)) # make the same shape"
      ],
      "execution_count": 25,
      "outputs": [
        {
          "output_type": "execute_result",
          "data": {
            "text/plain": [
              "<tf.Tensor: shape=(), dtype=float32, numpy=3.1969643>"
            ]
          },
          "metadata": {
            "tags": []
          },
          "execution_count": 25
        }
      ]
    },
    {
      "cell_type": "code",
      "metadata": {
        "colab": {
          "base_uri": "https://localhost:8080/"
        },
        "id": "xXC-wKf4zuYO",
        "outputId": "8e1b5226-a97b-44d6-80a3-c8866e9ca1dc"
      },
      "source": [
        "y_pred"
      ],
      "execution_count": 26,
      "outputs": [
        {
          "output_type": "execute_result",
          "data": {
            "text/plain": [
              "array([[ 70.55221 ],\n",
              "       [ 75.13992 ],\n",
              "       [ 79.72765 ],\n",
              "       [ 84.31538 ],\n",
              "       [ 88.9031  ],\n",
              "       [ 93.49082 ],\n",
              "       [ 98.07855 ],\n",
              "       [102.666275],\n",
              "       [107.254005],\n",
              "       [111.84173 ]], dtype=float32)"
            ]
          },
          "metadata": {
            "tags": []
          },
          "execution_count": 26
        }
      ]
    },
    {
      "cell_type": "code",
      "metadata": {
        "colab": {
          "base_uri": "https://localhost:8080/"
        },
        "id": "zIWEcPwSzzF3",
        "outputId": "b4cd554f-19e8-4a93-cc0c-4bafb01eff2c"
      },
      "source": [
        "y_test"
      ],
      "execution_count": 27,
      "outputs": [
        {
          "output_type": "execute_result",
          "data": {
            "text/plain": [
              "<tf.Tensor: shape=(10,), dtype=int32, numpy=array([ 70,  74,  78,  82,  86,  90,  94,  98, 102, 106], dtype=int32)>"
            ]
          },
          "metadata": {
            "tags": []
          },
          "execution_count": 27
        }
      ]
    },
    {
      "cell_type": "code",
      "metadata": {
        "colab": {
          "base_uri": "https://localhost:8080/"
        },
        "id": "95-s9xHLz0B8",
        "outputId": "538ff08f-7a7a-4bdc-e900-f76e2d7a4f3d"
      },
      "source": [
        "tf.squeeze(y_pred)\n"
      ],
      "execution_count": 28,
      "outputs": [
        {
          "output_type": "execute_result",
          "data": {
            "text/plain": [
              "<tf.Tensor: shape=(10,), dtype=float32, numpy=\n",
              "array([ 70.55221 ,  75.13992 ,  79.72765 ,  84.31538 ,  88.9031  ,\n",
              "        93.49082 ,  98.07855 , 102.666275, 107.254005, 111.84173 ],\n",
              "      dtype=float32)>"
            ]
          },
          "metadata": {
            "tags": []
          },
          "execution_count": 28
        }
      ]
    },
    {
      "cell_type": "code",
      "metadata": {
        "colab": {
          "base_uri": "https://localhost:8080/"
        },
        "id": "Onfw16Dz1i6T",
        "outputId": "ea8b4ee2-cc01-49a0-a8a4-c5392e67a57b"
      },
      "source": [
        "y_pred"
      ],
      "execution_count": 29,
      "outputs": [
        {
          "output_type": "execute_result",
          "data": {
            "text/plain": [
              "array([[ 70.55221 ],\n",
              "       [ 75.13992 ],\n",
              "       [ 79.72765 ],\n",
              "       [ 84.31538 ],\n",
              "       [ 88.9031  ],\n",
              "       [ 93.49082 ],\n",
              "       [ 98.07855 ],\n",
              "       [102.666275],\n",
              "       [107.254005],\n",
              "       [111.84173 ]], dtype=float32)"
            ]
          },
          "metadata": {
            "tags": []
          },
          "execution_count": 29
        }
      ]
    },
    {
      "cell_type": "code",
      "metadata": {
        "colab": {
          "base_uri": "https://localhost:8080/"
        },
        "id": "QA4BQk0r1jg0",
        "outputId": "0997875c-28aa-41b6-d187-592d31dbbb84"
      },
      "source": [
        "# Calculate the mean square error\n",
        "tf.metrics.mean_squared_error(y_test,tf.squeeze(y_pred))"
      ],
      "execution_count": 30,
      "outputs": [
        {
          "output_type": "execute_result",
          "data": {
            "text/plain": [
              "<tf.Tensor: shape=(), dtype=float32, numpy=13.0703>"
            ]
          },
          "metadata": {
            "tags": []
          },
          "execution_count": 30
        }
      ]
    },
    {
      "cell_type": "markdown",
      "metadata": {
        "id": "k6lGCPIF1-Y1"
      },
      "source": [
        "### Runing expreiments to improves our model \n",
        "1. Get moore data,\n",
        "2. Make your model larger more layer\n",
        "3. Training for longer\n",
        "\n",
        "Let's do 3 Modeling experiments:\n",
        "1. `Model_1` - same as the orgininal \n",
        "2. `Model_2` - 2 layers, trained for 100 epochs\n",
        "3. `Model_3` - 2 layers , trained for 500 epochs\n"
      ]
    },
    {
      "cell_type": "code",
      "metadata": {
        "colab": {
          "base_uri": "https://localhost:8080/"
        },
        "id": "JTHt1VHA5d2F",
        "outputId": "0962bd05-6d32-40c4-c388-2a6eb9d39ed4"
      },
      "source": [
        "# Set random seed\n",
        "tf.random.set_seed(42)\n",
        "# 1. Create the model\n",
        "model_1 = keras.Sequential([\n",
        "                            keras.layers.Dense(1)\n",
        "])\n",
        "# 2. Compile model\n",
        "model_1.compile(loss=keras.losses.mae,\n",
        "                optimizer = keras.optimizers.SGD(),\n",
        "                metrics =['mse'])\n",
        "# 3. fit the model\n",
        "model_1.fit(X_train,y_train,epochs=5,verbose=0)"
      ],
      "execution_count": 31,
      "outputs": [
        {
          "output_type": "execute_result",
          "data": {
            "text/plain": [
              "<tensorflow.python.keras.callbacks.History at 0x7f658410b850>"
            ]
          },
          "metadata": {
            "tags": []
          },
          "execution_count": 31
        }
      ]
    },
    {
      "cell_type": "code",
      "metadata": {
        "colab": {
          "base_uri": "https://localhost:8080/",
          "height": 428
        },
        "id": "0s7eRWWY7E4A",
        "outputId": "2fce3dac-9cef-4c11-8276-d04484fba95a"
      },
      "source": [
        "plot_prediction(predictions=model_1.predict(X_test))"
      ],
      "execution_count": 32,
      "outputs": [
        {
          "output_type": "display_data",
          "data": {
            "image/png": "[encoded data removed]",
            "text/plain": [
              "<Figure size 720x504 with 1 Axes>"
            ]
          },
          "metadata": {
            "tags": [],
            "needs_background": "light"
          }
        }
      ]
    },
    {
      "cell_type": "markdown",
      "metadata": {
        "id": "ldr6owiJ8Iy0"
      },
      "source": [
        "\n",
        "**Build `model_2`**\n",
        "\n",
        "* 2 dense layers, trained for 100 epochs"
      ]
    },
    {
      "cell_type": "code",
      "metadata": {
        "id": "b2bQh-mp7YBA",
        "colab": {
          "base_uri": "https://localhost:8080/"
        },
        "outputId": "bc50179e-2c7c-4e7f-e4c2-c423baac56f8"
      },
      "source": [
        "tf.random.set_seed(42)\n",
        "# 1. Creating model\n",
        "model_2 = keras.Sequential([\n",
        "                            keras.layers.Dense(10),\n",
        "                            keras.layers.Dense(1)\n",
        "])\n",
        "# 2. Compile model\n",
        "model_2.compile(loss=tf.keras.losses.mae,\n",
        "                optimizer= tf.keras.optimizers.SGD(),\n",
        "                metrics=['mae'])\n",
        "# 3. Fitting model\n",
        "model_2.fit(X_train,y_train,epochs=100,verbose=0)\n"
      ],
      "execution_count": 33,
      "outputs": [
        {
          "output_type": "execute_result",
          "data": {
            "text/plain": [
              "<tensorflow.python.keras.callbacks.History at 0x7f65848d3450>"
            ]
          },
          "metadata": {
            "tags": []
          },
          "execution_count": 33
        }
      ]
    },
    {
      "cell_type": "code",
      "metadata": {
        "colab": {
          "base_uri": "https://localhost:8080/",
          "height": 465
        },
        "id": "f6j7YX4lRmQC",
        "outputId": "a02e6063-384b-430b-db8d-78b37607257c"
      },
      "source": [
        "plot_prediction(predictions=model_2.predict(X_test))"
      ],
      "execution_count": 34,
      "outputs": [
        {
          "output_type": "stream",
          "text": [
            "WARNING:tensorflow:5 out of the last 5 calls to <function Model.make_predict_function.<locals>.predict_function at 0x7f6584870a70> triggered tf.function retracing. Tracing is expensive and the excessive number of tracings could be due to (1) creating @tf.function repeatedly in a loop, (2) passing tensors with different shapes, (3) passing Python objects instead of tensors. For (1), please define your @tf.function outside of the loop. For (2), @tf.function has experimental_relax_shapes=True option that relaxes argument shapes that can avoid unnecessary retracing. For (3), please refer to https://www.tensorflow.org/guide/function#controlling_retracing and https://www.tensorflow.org/api_docs/python/tf/function for  more details.\n"
          ],
          "name": "stdout"
        },
        {
          "output_type": "display_data",
          "data": {
            "image/png": "[encoded data removed]",
            "text/plain": [
              "<Figure size 720x504 with 1 Axes>"
            ]
          },
          "metadata": {
            "tags": [],
            "needs_background": "light"
          }
        }
      ]
    },
    {
      "cell_type": "markdown",
      "metadata": {
        "id": "saRH_tbMSODe"
      },
      "source": [
        "**Build model_3**\n",
        "1. 2 layers , trained for 500 epochs"
      ]
    },
    {
      "cell_type": "code",
      "metadata": {
        "colab": {
          "base_uri": "https://localhost:8080/"
        },
        "id": "OsCTiApZSvTa",
        "outputId": "4e296168-a059-4c78-ebe6-c867c3b053f2"
      },
      "source": [
        "tf.random.set_seed(42)\n",
        "# 1. Creating Model\n",
        "model_3 = keras.Sequential([\n",
        "                            keras.layers.Dense(10),\n",
        "                            keras.layers.Dense(1),\n",
        "])\n",
        "# 2. Compile model\n",
        "model_3.compile(loss=keras.losses.mae,\n",
        "                optimizer = keras.optimizers.SGD(),\n",
        "                metrics=['mae'])\n",
        "# 3. Fitting model\n",
        "model_3.fit(X_train,y_train,epochs=500,verbose=0)"
      ],
      "execution_count": 35,
      "outputs": [
        {
          "output_type": "execute_result",
          "data": {
            "text/plain": [
              "<tensorflow.python.keras.callbacks.History at 0x7f6584729750>"
            ]
          },
          "metadata": {
            "tags": []
          },
          "execution_count": 35
        }
      ]
    },
    {
      "cell_type": "code",
      "metadata": {
        "colab": {
          "base_uri": "https://localhost:8080/",
          "height": 465
        },
        "id": "uA90YjYKTIyf",
        "outputId": "fb32c4f6-d22f-43fc-be93-05317aef3add"
      },
      "source": [
        "plot_prediction(predictions=model_3.predict(X_test))"
      ],
      "execution_count": 36,
      "outputs": [
        {
          "output_type": "stream",
          "text": [
            "WARNING:tensorflow:6 out of the last 6 calls to <function Model.make_predict_function.<locals>.predict_function at 0x7f6584751e60> triggered tf.function retracing. Tracing is expensive and the excessive number of tracings could be due to (1) creating @tf.function repeatedly in a loop, (2) passing tensors with different shapes, (3) passing Python objects instead of tensors. For (1), please define your @tf.function outside of the loop. For (2), @tf.function has experimental_relax_shapes=True option that relaxes argument shapes that can avoid unnecessary retracing. For (3), please refer to https://www.tensorflow.org/guide/function#controlling_retracing and https://www.tensorflow.org/api_docs/python/tf/function for  more details.\n"
          ],
          "name": "stdout"
        },
        {
          "output_type": "display_data",
          "data": {
            "image/png": "[encoded data removed]",
            "text/plain": [
              "<Figure size 720x504 with 1 Axes>"
            ]
          },
          "metadata": {
            "tags": [],
            "needs_background": "light"
          }
        }
      ]
    },
    {
      "cell_type": "markdown",
      "metadata": {
        "id": "kkLtgUKvTWG-"
      },
      "source": [
        "Model is verry overfitting "
      ]
    },
    {
      "cell_type": "markdown",
      "metadata": {
        "id": "zIzh_FKMTwuh"
      },
      "source": [
        "### Comparing the results of our experments\n",
        "Compare the the experiments"
      ]
    },
    {
      "cell_type": "markdown",
      "metadata": {
        "id": "_x0QFoQ4T3yz"
      },
      "source": [
        "### Saving our models\n",
        "Saving our models allows us to use them outside of Google Colab web application mobile apps\n",
        "1. Saved Model format\n",
        "2. the HDF5 format"
      ]
    },
    {
      "cell_type": "code",
      "metadata": {
        "colab": {
          "base_uri": "https://localhost:8080/"
        },
        "id": "GfIFmEMg-eaV",
        "outputId": "b1ea0671-8a93-456e-e47b-c9b2117f8680"
      },
      "source": [
        "model_2.save(\"best_model_SaveModel_Format\")"
      ],
      "execution_count": 37,
      "outputs": [
        {
          "output_type": "stream",
          "text": [
            "INFO:tensorflow:Assets written to: best_model_SaveModel_Format/assets\n"
          ],
          "name": "stdout"
        }
      ]
    },
    {
      "cell_type": "code",
      "metadata": {
        "id": "4c5zOaga_nNM"
      },
      "source": [
        "# Saving our model using HDF5 format\n",
        "model_2.save(\"best_model_HDF5_Format.h5\")"
      ],
      "execution_count": 38,
      "outputs": []
    },
    {
      "cell_type": "markdown",
      "metadata": {
        "id": "pjB_x-ypAP4-"
      },
      "source": [
        "## Loading in a saved model"
      ]
    },
    {
      "cell_type": "code",
      "metadata": {
        "id": "92x2zqs6HskV"
      },
      "source": [
        "# Loading in the SavedModel\n",
        "loaded_SavedModel_format = tf.keras.models.load_model('/content/best_model_SaveModel_Format')"
      ],
      "execution_count": 39,
      "outputs": []
    },
    {
      "cell_type": "code",
      "metadata": {
        "colab": {
          "base_uri": "https://localhost:8080/"
        },
        "id": "DMRHs7ZXIMmk",
        "outputId": "e576a806-7660-4aee-de78-08389111eed9"
      },
      "source": [
        "loaded_SavedModel_format.summary()"
      ],
      "execution_count": 40,
      "outputs": [
        {
          "output_type": "stream",
          "text": [
            "Model: \"sequential_4\"\n",
            "_________________________________________________________________\n",
            "Layer (type)                 Output Shape              Param #   \n",
            "=================================================================\n",
            "dense_5 (Dense)              (None, 10)                20        \n",
            "_________________________________________________________________\n",
            "dense_6 (Dense)              (None, 1)                 11        \n",
            "=================================================================\n",
            "Total params: 31\n",
            "Trainable params: 31\n",
            "Non-trainable params: 0\n",
            "_________________________________________________________________\n"
          ],
          "name": "stdout"
        }
      ]
    },
    {
      "cell_type": "code",
      "metadata": {
        "colab": {
          "base_uri": "https://localhost:8080/"
        },
        "id": "t4p1DpRRIQ_2",
        "outputId": "9b298b74-942b-456c-be30-da16031f1bf7"
      },
      "source": [
        "# Compare model_2 predictions with SaveModel format model prediction\n",
        "model_2_preds = model_2.predict(X_test)\n",
        "loaded_SavedModel_format_preds = model_2.predict(X_test)\n",
        "model_2_preds == loaded_SavedModel_format_preds"
      ],
      "execution_count": 41,
      "outputs": [
        {
          "output_type": "execute_result",
          "data": {
            "text/plain": [
              "array([[ True],\n",
              "       [ True],\n",
              "       [ True],\n",
              "       [ True],\n",
              "       [ True],\n",
              "       [ True],\n",
              "       [ True],\n",
              "       [ True],\n",
              "       [ True],\n",
              "       [ True]])"
            ]
          },
          "metadata": {
            "tags": []
          },
          "execution_count": 41
        }
      ]
    },
    {
      "cell_type": "markdown",
      "metadata": {
        "id": "4UuFlGRKJAHA"
      },
      "source": [
        "### A Large Example "
      ]
    },
    {
      "cell_type": "code",
      "metadata": {
        "id": "I0TRdzrsLm7B"
      },
      "source": [
        "# Import libraries\n",
        "import tensorflow as tf\n",
        "import pandas as pd\n",
        "import matplotlib.pyplot as plt\n"
      ],
      "execution_count": 42,
      "outputs": []
    },
    {
      "cell_type": "code",
      "metadata": {
        "colab": {
          "base_uri": "https://localhost:8080/",
          "height": 204
        },
        "id": "gDom8lxCT7xP",
        "outputId": "e2651f8e-2bf8-4b1e-ebc1-1645168003df"
      },
      "source": [
        "# load data\n",
        "insurance = pd.read_csv(\"https://raw.githubusercontent.com/stedy/Machine-Learning-with-R-datasets/master/insurance.csv\")\n",
        "insurance.head()"
      ],
      "execution_count": 43,
      "outputs": [
        {
          "output_type": "execute_result",
          "data": {
            "text/html": [
              "<div>\n",
              "<style scoped>\n",
              "    .dataframe tbody tr th:only-of-type {\n",
              "        vertical-align: middle;\n",
              "    }\n",
              "\n",
              "    .dataframe tbody tr th {\n",
              "        vertical-align: top;\n",
              "    }\n",
              "\n",
              "    .dataframe thead th {\n",
              "        text-align: right;\n",
              "    }\n",
              "</style>\n",
              "<table border=\"1\" class=\"dataframe\">\n",
              "  <thead>\n",
              "    <tr style=\"text-align: right;\">\n",
              "      <th></th>\n",
              "      <th>age</th>\n",
              "      <th>sex</th>\n",
              "      <th>bmi</th>\n",
              "      <th>children</th>\n",
              "      <th>smoker</th>\n",
              "      <th>region</th>\n",
              "      <th>charges</th>\n",
              "    </tr>\n",
              "  </thead>\n",
              "  <tbody>\n",
              "    <tr>\n",
              "      <th>0</th>\n",
              "      <td>19</td>\n",
              "      <td>female</td>\n",
              "      <td>27.900</td>\n",
              "      <td>0</td>\n",
              "      <td>yes</td>\n",
              "      <td>southwest</td>\n",
              "      <td>16884.92400</td>\n",
              "    </tr>\n",
              "    <tr>\n",
              "      <th>1</th>\n",
              "      <td>18</td>\n",
              "      <td>male</td>\n",
              "      <td>33.770</td>\n",
              "      <td>1</td>\n",
              "      <td>no</td>\n",
              "      <td>southeast</td>\n",
              "      <td>1725.55230</td>\n",
              "    </tr>\n",
              "    <tr>\n",
              "      <th>2</th>\n",
              "      <td>28</td>\n",
              "      <td>male</td>\n",
              "      <td>33.000</td>\n",
              "      <td>3</td>\n",
              "      <td>no</td>\n",
              "      <td>southeast</td>\n",
              "      <td>4449.46200</td>\n",
              "    </tr>\n",
              "    <tr>\n",
              "      <th>3</th>\n",
              "      <td>33</td>\n",
              "      <td>male</td>\n",
              "      <td>22.705</td>\n",
              "      <td>0</td>\n",
              "      <td>no</td>\n",
              "      <td>northwest</td>\n",
              "      <td>21984.47061</td>\n",
              "    </tr>\n",
              "    <tr>\n",
              "      <th>4</th>\n",
              "      <td>32</td>\n",
              "      <td>male</td>\n",
              "      <td>28.880</td>\n",
              "      <td>0</td>\n",
              "      <td>no</td>\n",
              "      <td>northwest</td>\n",
              "      <td>3866.85520</td>\n",
              "    </tr>\n",
              "  </tbody>\n",
              "</table>\n",
              "</div>"
            ],
            "text/plain": [
              "   age     sex     bmi  children smoker     region      charges\n",
              "0   19  female  27.900         0    yes  southwest  16884.92400\n",
              "1   18    male  33.770         1     no  southeast   1725.55230\n",
              "2   28    male  33.000         3     no  southeast   4449.46200\n",
              "3   33    male  22.705         0     no  northwest  21984.47061\n",
              "4   32    male  28.880         0     no  northwest   3866.85520"
            ]
          },
          "metadata": {
            "tags": []
          },
          "execution_count": 43
        }
      ]
    },
    {
      "cell_type": "code",
      "metadata": {
        "colab": {
          "base_uri": "https://localhost:8080/",
          "height": 204
        },
        "id": "l9iqjdr-UJOG",
        "outputId": "48d71e9e-8d0d-431c-ebe6-d2970d30594a"
      },
      "source": [
        "# let one hot dataframe convert it to numbers\n",
        "insurance_one_hot = pd.get_dummies(insurance)\n",
        "insurance_one_hot.head()"
      ],
      "execution_count": 44,
      "outputs": [
        {
          "output_type": "execute_result",
          "data": {
            "text/html": [
              "<div>\n",
              "<style scoped>\n",
              "    .dataframe tbody tr th:only-of-type {\n",
              "        vertical-align: middle;\n",
              "    }\n",
              "\n",
              "    .dataframe tbody tr th {\n",
              "        vertical-align: top;\n",
              "    }\n",
              "\n",
              "    .dataframe thead th {\n",
              "        text-align: right;\n",
              "    }\n",
              "</style>\n",
              "<table border=\"1\" class=\"dataframe\">\n",
              "  <thead>\n",
              "    <tr style=\"text-align: right;\">\n",
              "      <th></th>\n",
              "      <th>age</th>\n",
              "      <th>bmi</th>\n",
              "      <th>children</th>\n",
              "      <th>charges</th>\n",
              "      <th>sex_female</th>\n",
              "      <th>sex_male</th>\n",
              "      <th>smoker_no</th>\n",
              "      <th>smoker_yes</th>\n",
              "      <th>region_northeast</th>\n",
              "      <th>region_northwest</th>\n",
              "      <th>region_southeast</th>\n",
              "      <th>region_southwest</th>\n",
              "    </tr>\n",
              "  </thead>\n",
              "  <tbody>\n",
              "    <tr>\n",
              "      <th>0</th>\n",
              "      <td>19</td>\n",
              "      <td>27.900</td>\n",
              "      <td>0</td>\n",
              "      <td>16884.92400</td>\n",
              "      <td>1</td>\n",
              "      <td>0</td>\n",
              "      <td>0</td>\n",
              "      <td>1</td>\n",
              "      <td>0</td>\n",
              "      <td>0</td>\n",
              "      <td>0</td>\n",
              "      <td>1</td>\n",
              "    </tr>\n",
              "    <tr>\n",
              "      <th>1</th>\n",
              "      <td>18</td>\n",
              "      <td>33.770</td>\n",
              "      <td>1</td>\n",
              "      <td>1725.55230</td>\n",
              "      <td>0</td>\n",
              "      <td>1</td>\n",
              "      <td>1</td>\n",
              "      <td>0</td>\n",
              "      <td>0</td>\n",
              "      <td>0</td>\n",
              "      <td>1</td>\n",
              "      <td>0</td>\n",
              "    </tr>\n",
              "    <tr>\n",
              "      <th>2</th>\n",
              "      <td>28</td>\n",
              "      <td>33.000</td>\n",
              "      <td>3</td>\n",
              "      <td>4449.46200</td>\n",
              "      <td>0</td>\n",
              "      <td>1</td>\n",
              "      <td>1</td>\n",
              "      <td>0</td>\n",
              "      <td>0</td>\n",
              "      <td>0</td>\n",
              "      <td>1</td>\n",
              "      <td>0</td>\n",
              "    </tr>\n",
              "    <tr>\n",
              "      <th>3</th>\n",
              "      <td>33</td>\n",
              "      <td>22.705</td>\n",
              "      <td>0</td>\n",
              "      <td>21984.47061</td>\n",
              "      <td>0</td>\n",
              "      <td>1</td>\n",
              "      <td>1</td>\n",
              "      <td>0</td>\n",
              "      <td>0</td>\n",
              "      <td>1</td>\n",
              "      <td>0</td>\n",
              "      <td>0</td>\n",
              "    </tr>\n",
              "    <tr>\n",
              "      <th>4</th>\n",
              "      <td>32</td>\n",
              "      <td>28.880</td>\n",
              "      <td>0</td>\n",
              "      <td>3866.85520</td>\n",
              "      <td>0</td>\n",
              "      <td>1</td>\n",
              "      <td>1</td>\n",
              "      <td>0</td>\n",
              "      <td>0</td>\n",
              "      <td>1</td>\n",
              "      <td>0</td>\n",
              "      <td>0</td>\n",
              "    </tr>\n",
              "  </tbody>\n",
              "</table>\n",
              "</div>"
            ],
            "text/plain": [
              "   age     bmi  children  ...  region_northwest  region_southeast  region_southwest\n",
              "0   19  27.900         0  ...                 0                 0                 1\n",
              "1   18  33.770         1  ...                 0                 1                 0\n",
              "2   28  33.000         3  ...                 0                 1                 0\n",
              "3   33  22.705         0  ...                 1                 0                 0\n",
              "4   32  28.880         0  ...                 1                 0                 0\n",
              "\n",
              "[5 rows x 12 columns]"
            ]
          },
          "metadata": {
            "tags": []
          },
          "execution_count": 44
        }
      ]
    },
    {
      "cell_type": "code",
      "metadata": {
        "id": "vhwEGunK9fF0"
      },
      "source": [
        "# Create X & y values features\n",
        "y = insurance_one_hot['charges']\n",
        "X = insurance_one_hot.drop(labels='charges',axis=1)"
      ],
      "execution_count": 45,
      "outputs": []
    },
    {
      "cell_type": "code",
      "metadata": {
        "colab": {
          "base_uri": "https://localhost:8080/",
          "height": 204
        },
        "id": "DxBBeDO7-Gnm",
        "outputId": "ce2362b7-cd45-4963-f34a-7fc280b47cb0"
      },
      "source": [
        "X.head()"
      ],
      "execution_count": 46,
      "outputs": [
        {
          "output_type": "execute_result",
          "data": {
            "text/html": [
              "<div>\n",
              "<style scoped>\n",
              "    .dataframe tbody tr th:only-of-type {\n",
              "        vertical-align: middle;\n",
              "    }\n",
              "\n",
              "    .dataframe tbody tr th {\n",
              "        vertical-align: top;\n",
              "    }\n",
              "\n",
              "    .dataframe thead th {\n",
              "        text-align: right;\n",
              "    }\n",
              "</style>\n",
              "<table border=\"1\" class=\"dataframe\">\n",
              "  <thead>\n",
              "    <tr style=\"text-align: right;\">\n",
              "      <th></th>\n",
              "      <th>age</th>\n",
              "      <th>bmi</th>\n",
              "      <th>children</th>\n",
              "      <th>sex_female</th>\n",
              "      <th>sex_male</th>\n",
              "      <th>smoker_no</th>\n",
              "      <th>smoker_yes</th>\n",
              "      <th>region_northeast</th>\n",
              "      <th>region_northwest</th>\n",
              "      <th>region_southeast</th>\n",
              "      <th>region_southwest</th>\n",
              "    </tr>\n",
              "  </thead>\n",
              "  <tbody>\n",
              "    <tr>\n",
              "      <th>0</th>\n",
              "      <td>19</td>\n",
              "      <td>27.900</td>\n",
              "      <td>0</td>\n",
              "      <td>1</td>\n",
              "      <td>0</td>\n",
              "      <td>0</td>\n",
              "      <td>1</td>\n",
              "      <td>0</td>\n",
              "      <td>0</td>\n",
              "      <td>0</td>\n",
              "      <td>1</td>\n",
              "    </tr>\n",
              "    <tr>\n",
              "      <th>1</th>\n",
              "      <td>18</td>\n",
              "      <td>33.770</td>\n",
              "      <td>1</td>\n",
              "      <td>0</td>\n",
              "      <td>1</td>\n",
              "      <td>1</td>\n",
              "      <td>0</td>\n",
              "      <td>0</td>\n",
              "      <td>0</td>\n",
              "      <td>1</td>\n",
              "      <td>0</td>\n",
              "    </tr>\n",
              "    <tr>\n",
              "      <th>2</th>\n",
              "      <td>28</td>\n",
              "      <td>33.000</td>\n",
              "      <td>3</td>\n",
              "      <td>0</td>\n",
              "      <td>1</td>\n",
              "      <td>1</td>\n",
              "      <td>0</td>\n",
              "      <td>0</td>\n",
              "      <td>0</td>\n",
              "      <td>1</td>\n",
              "      <td>0</td>\n",
              "    </tr>\n",
              "    <tr>\n",
              "      <th>3</th>\n",
              "      <td>33</td>\n",
              "      <td>22.705</td>\n",
              "      <td>0</td>\n",
              "      <td>0</td>\n",
              "      <td>1</td>\n",
              "      <td>1</td>\n",
              "      <td>0</td>\n",
              "      <td>0</td>\n",
              "      <td>1</td>\n",
              "      <td>0</td>\n",
              "      <td>0</td>\n",
              "    </tr>\n",
              "    <tr>\n",
              "      <th>4</th>\n",
              "      <td>32</td>\n",
              "      <td>28.880</td>\n",
              "      <td>0</td>\n",
              "      <td>0</td>\n",
              "      <td>1</td>\n",
              "      <td>1</td>\n",
              "      <td>0</td>\n",
              "      <td>0</td>\n",
              "      <td>1</td>\n",
              "      <td>0</td>\n",
              "      <td>0</td>\n",
              "    </tr>\n",
              "  </tbody>\n",
              "</table>\n",
              "</div>"
            ],
            "text/plain": [
              "   age     bmi  children  ...  region_northwest  region_southeast  region_southwest\n",
              "0   19  27.900         0  ...                 0                 0                 1\n",
              "1   18  33.770         1  ...                 0                 1                 0\n",
              "2   28  33.000         3  ...                 0                 1                 0\n",
              "3   33  22.705         0  ...                 1                 0                 0\n",
              "4   32  28.880         0  ...                 1                 0                 0\n",
              "\n",
              "[5 rows x 11 columns]"
            ]
          },
          "metadata": {
            "tags": []
          },
          "execution_count": 46
        }
      ]
    },
    {
      "cell_type": "code",
      "metadata": {
        "colab": {
          "base_uri": "https://localhost:8080/"
        },
        "id": "wprWcioL-J8F",
        "outputId": "b4d3fabb-08fd-422b-e535-954e4becbbc9"
      },
      "source": [
        "y"
      ],
      "execution_count": 47,
      "outputs": [
        {
          "output_type": "execute_result",
          "data": {
            "text/plain": [
              "0       16884.92400\n",
              "1        1725.55230\n",
              "2        4449.46200\n",
              "3       21984.47061\n",
              "4        3866.85520\n",
              "           ...     \n",
              "1333    10600.54830\n",
              "1334     2205.98080\n",
              "1335     1629.83350\n",
              "1336     2007.94500\n",
              "1337    29141.36030\n",
              "Name: charges, Length: 1338, dtype: float64"
            ]
          },
          "metadata": {
            "tags": []
          },
          "execution_count": 47
        }
      ]
    },
    {
      "cell_type": "code",
      "metadata": {
        "colab": {
          "base_uri": "https://localhost:8080/"
        },
        "id": "-ep_oZSQ-LZV",
        "outputId": "02ded5f4-1f45-41fa-c174-ece61c911835"
      },
      "source": [
        "# Train test split\n",
        "from sklearn.model_selection import train_test_split\n",
        "X_train,X_test,y_train,y_test = train_test_split(X,y,test_size=0.2,random_state=42)\n",
        "len(X_train),len(X_test),len(y_train),len(y_test)"
      ],
      "execution_count": 48,
      "outputs": [
        {
          "output_type": "execute_result",
          "data": {
            "text/plain": [
              "(1070, 268, 1070, 268)"
            ]
          },
          "metadata": {
            "tags": []
          },
          "execution_count": 48
        }
      ]
    },
    {
      "cell_type": "code",
      "metadata": {
        "colab": {
          "base_uri": "https://localhost:8080/"
        },
        "id": "eHFoOc32_COb",
        "outputId": "cc23afa9-93e0-405f-ea8d-fff97f1a789c"
      },
      "source": [
        "# Build a neuron networks (sort of like model_2 above)\n",
        "tf.random.set_seed(42)\n",
        "# 1. Create a model\n",
        "insurance_model = tf.keras.Sequential([\n",
        "                                       keras.layers.Dense(10),\n",
        "                                       keras.layers.Dense(1)\n",
        "])\n",
        "# 2. Compile Modle\n",
        "insurance_model.compile(loss=keras.losses.mae,\n",
        "                        optimizer = keras.optimizers.SGD(),\n",
        "                        metrics = ['mae'])\n",
        "# 3. Fitting a model\n",
        "insurance_model.fit(X_train,y_train,epochs=100,verbose=0)"
      ],
      "execution_count": 49,
      "outputs": [
        {
          "output_type": "execute_result",
          "data": {
            "text/plain": [
              "<tensorflow.python.keras.callbacks.History at 0x7f65830ac650>"
            ]
          },
          "metadata": {
            "tags": []
          },
          "execution_count": 49
        }
      ]
    },
    {
      "cell_type": "code",
      "metadata": {
        "colab": {
          "base_uri": "https://localhost:8080/"
        },
        "id": "KvsT_j92_R8T",
        "outputId": "f96350b4-a9f4-4501-e775-bc3e0dd67b0e"
      },
      "source": [
        "model_2.summary()"
      ],
      "execution_count": 50,
      "outputs": [
        {
          "output_type": "stream",
          "text": [
            "Model: \"sequential_4\"\n",
            "_________________________________________________________________\n",
            "Layer (type)                 Output Shape              Param #   \n",
            "=================================================================\n",
            "dense_5 (Dense)              (None, 10)                20        \n",
            "_________________________________________________________________\n",
            "dense_6 (Dense)              (None, 1)                 11        \n",
            "=================================================================\n",
            "Total params: 31\n",
            "Trainable params: 31\n",
            "Non-trainable params: 0\n",
            "_________________________________________________________________\n"
          ],
          "name": "stdout"
        }
      ]
    },
    {
      "cell_type": "code",
      "metadata": {
        "colab": {
          "base_uri": "https://localhost:8080/"
        },
        "id": "ck0UHKua_hE9",
        "outputId": "73ab5d4c-7aa8-46b9-e966-7144f1947588"
      },
      "source": [
        "# Check result \n",
        "insurance_model.evaluate(X_test,y_test)"
      ],
      "execution_count": 51,
      "outputs": [
        {
          "output_type": "stream",
          "text": [
            "9/9 [==============================] - 0s 2ms/step - loss: 7023.3281 - mae: 7023.3281\n"
          ],
          "name": "stdout"
        },
        {
          "output_type": "execute_result",
          "data": {
            "text/plain": [
              "[7023.328125, 7023.328125]"
            ]
          },
          "metadata": {
            "tags": []
          },
          "execution_count": 51
        }
      ]
    },
    {
      "cell_type": "markdown",
      "metadata": {
        "id": "8o0bC-ZoALYS"
      },
      "source": [
        " Right Now It look like our model to well.. let's try and improve its\n",
        " 1. ADd an extra layers with more hidden units and adam optimizer\n",
        " 2. Train for longer model above"
      ]
    },
    {
      "cell_type": "code",
      "metadata": {
        "colab": {
          "base_uri": "https://localhost:8080/"
        },
        "id": "rA3sDhgqAvOp",
        "outputId": "117b7989-944a-4d55-9733-60f0ef4a0c70"
      },
      "source": [
        "tf.random.set_seed(42)\n",
        "# 1. Create model\n",
        "insurance_model_2 = keras.Sequential([\n",
        "                                      keras.layers.Dense(100),\n",
        "                                      keras.layers.Dense(10),\n",
        "                                      keras.layers.Dense(1),\n",
        "])\n",
        "# 2. Compile model\n",
        "insurance_model_2.compile(loss=keras.losses.mae,\n",
        "                          optimizer=keras.optimizers.Adam(),\n",
        "                          metrics=['mae'])\n",
        "# 3. Fitting our model\n",
        "insurance_model_2.fit(X_train,y_train,epochs=100,verbose=0)"
      ],
      "execution_count": 52,
      "outputs": [
        {
          "output_type": "execute_result",
          "data": {
            "text/plain": [
              "<tensorflow.python.keras.callbacks.History at 0x7f6582f96b10>"
            ]
          },
          "metadata": {
            "tags": []
          },
          "execution_count": 52
        }
      ]
    },
    {
      "cell_type": "code",
      "metadata": {
        "colab": {
          "base_uri": "https://localhost:8080/"
        },
        "id": "uQ6LSXBCBeFG",
        "outputId": "0acc2e1e-4cdb-48a8-f8a9-4c5d32319aa0"
      },
      "source": [
        "insurance_model_2.evaluate(X_test,y_test)"
      ],
      "execution_count": 53,
      "outputs": [
        {
          "output_type": "stream",
          "text": [
            "9/9 [==============================] - 0s 3ms/step - loss: 4924.5107 - mae: 4924.5107\n"
          ],
          "name": "stdout"
        },
        {
          "output_type": "execute_result",
          "data": {
            "text/plain": [
              "[4924.5107421875, 4924.5107421875]"
            ]
          },
          "metadata": {
            "tags": []
          },
          "execution_count": 53
        }
      ]
    },
    {
      "cell_type": "code",
      "metadata": {
        "id": "wuu9B2aJBgXm"
      },
      "source": [
        "tf.random.set_seed(42)\n",
        "# 1. Create model\n",
        "insurance_model_3 = keras.Sequential([\n",
        "                                      keras.layers.Dense(100),\n",
        "                                      keras.layers.Dense(10),\n",
        "                                      keras.layers.Dense(1),\n",
        "])\n",
        "# 2. Compile model\n",
        "insurance_model_3.compile(loss=keras.losses.mae,\n",
        "                          optimizer=keras.optimizers.Adam(),\n",
        "                          metrics=['mae'])\n",
        "# 3. Fitting our model\n",
        "history = insurance_model_3.fit(X_train,y_train,epochs=500,verbose=0)"
      ],
      "execution_count": 56,
      "outputs": []
    },
    {
      "cell_type": "code",
      "metadata": {
        "colab": {
          "base_uri": "https://localhost:8080/"
        },
        "id": "ds8cZbw4Cfap",
        "outputId": "774aca2a-d8a2-4660-de34-56cc81d798b6"
      },
      "source": [
        "insurance_model_3.evaluate(X_test,y_test)"
      ],
      "execution_count": 55,
      "outputs": [
        {
          "output_type": "stream",
          "text": [
            "9/9 [==============================] - 0s 3ms/step - loss: 3173.5503 - mae: 3173.5503\n"
          ],
          "name": "stdout"
        },
        {
          "output_type": "execute_result",
          "data": {
            "text/plain": [
              "[3173.55029296875, 3173.55029296875]"
            ]
          },
          "metadata": {
            "tags": []
          },
          "execution_count": 55
        }
      ]
    },
    {
      "cell_type": "code",
      "metadata": {
        "colab": {
          "base_uri": "https://localhost:8080/",
          "height": 296
        },
        "id": "yQi-utknChm3",
        "outputId": "c8be9b3c-ea04-49e3-8312-e5076a7e1407"
      },
      "source": [
        "# Plot history ( also know as a loss curve or a tranning cuver)\n",
        "pd.DataFrame(history.history).plot()\n",
        "plt.xlabel(\"loss\")\n",
        "plt.ylabel(\"epochs\")"
      ],
      "execution_count": 57,
      "outputs": [
        {
          "output_type": "execute_result",
          "data": {
            "text/plain": [
              "Text(0, 0.5, 'epochs')"
            ]
          },
          "metadata": {
            "tags": []
          },
          "execution_count": 57
        },
        {
          "output_type": "display_data",
          "data": {
            "image/png": "[encoded data removed]",
            "text/plain": [
              "<Figure size 432x288 with 1 Axes>"
            ]
          },
          "metadata": {
            "tags": [],
            "needs_background": "light"
          }
        }
      ]
    },
    {
      "cell_type": "markdown",
      "metadata": {
        "id": "oosHrC7-Dd3c"
      },
      "source": [
        "### Preprocessing data (normalization and standardization)"
      ]
    },
    {
      "cell_type": "markdown",
      "metadata": {
        "id": "6G0lTN1tEHCD"
      },
      "source": [
        "Features Scaling type\n",
        "1. normalization, conver to 0->1 để ngăn chặn orginal phân bố\n",
        "2. standardization, removes meadn và chia cho std gần với phân bố chuẩn "
      ]
    },
    {
      "cell_type": "markdown",
      "metadata": {
        "id": "6OeTGpvUJZyP"
      },
      "source": [
        "Trong of scalling values, Neural networks tend to normalizatio n"
      ]
    },
    {
      "cell_type": "markdown",
      "metadata": {
        "id": "0Ps4nSodKDFS"
      },
      "source": [
        "To prepare our data, we can brrow a few class  from SkiciLearn\n"
      ]
    },
    {
      "cell_type": "code",
      "metadata": {
        "colab": {
          "base_uri": "https://localhost:8080/",
          "height": 204
        },
        "id": "G_YS2xQ8KYWz",
        "outputId": "2516eba1-8fac-4e7d-a2d3-7b19176a0095"
      },
      "source": [
        "insurance = pd.read_csv(\"https://raw.githubusercontent.com/stedy/Machine-Learning-with-R-datasets/master/insurance.csv\")\n",
        "insurance.head()"
      ],
      "execution_count": 59,
      "outputs": [
        {
          "output_type": "execute_result",
          "data": {
            "text/html": [
              "<div>\n",
              "<style scoped>\n",
              "    .dataframe tbody tr th:only-of-type {\n",
              "        vertical-align: middle;\n",
              "    }\n",
              "\n",
              "    .dataframe tbody tr th {\n",
              "        vertical-align: top;\n",
              "    }\n",
              "\n",
              "    .dataframe thead th {\n",
              "        text-align: right;\n",
              "    }\n",
              "</style>\n",
              "<table border=\"1\" class=\"dataframe\">\n",
              "  <thead>\n",
              "    <tr style=\"text-align: right;\">\n",
              "      <th></th>\n",
              "      <th>age</th>\n",
              "      <th>sex</th>\n",
              "      <th>bmi</th>\n",
              "      <th>children</th>\n",
              "      <th>smoker</th>\n",
              "      <th>region</th>\n",
              "      <th>charges</th>\n",
              "    </tr>\n",
              "  </thead>\n",
              "  <tbody>\n",
              "    <tr>\n",
              "      <th>0</th>\n",
              "      <td>19</td>\n",
              "      <td>female</td>\n",
              "      <td>27.900</td>\n",
              "      <td>0</td>\n",
              "      <td>yes</td>\n",
              "      <td>southwest</td>\n",
              "      <td>16884.92400</td>\n",
              "    </tr>\n",
              "    <tr>\n",
              "      <th>1</th>\n",
              "      <td>18</td>\n",
              "      <td>male</td>\n",
              "      <td>33.770</td>\n",
              "      <td>1</td>\n",
              "      <td>no</td>\n",
              "      <td>southeast</td>\n",
              "      <td>1725.55230</td>\n",
              "    </tr>\n",
              "    <tr>\n",
              "      <th>2</th>\n",
              "      <td>28</td>\n",
              "      <td>male</td>\n",
              "      <td>33.000</td>\n",
              "      <td>3</td>\n",
              "      <td>no</td>\n",
              "      <td>southeast</td>\n",
              "      <td>4449.46200</td>\n",
              "    </tr>\n",
              "    <tr>\n",
              "      <th>3</th>\n",
              "      <td>33</td>\n",
              "      <td>male</td>\n",
              "      <td>22.705</td>\n",
              "      <td>0</td>\n",
              "      <td>no</td>\n",
              "      <td>northwest</td>\n",
              "      <td>21984.47061</td>\n",
              "    </tr>\n",
              "    <tr>\n",
              "      <th>4</th>\n",
              "      <td>32</td>\n",
              "      <td>male</td>\n",
              "      <td>28.880</td>\n",
              "      <td>0</td>\n",
              "      <td>no</td>\n",
              "      <td>northwest</td>\n",
              "      <td>3866.85520</td>\n",
              "    </tr>\n",
              "  </tbody>\n",
              "</table>\n",
              "</div>"
            ],
            "text/plain": [
              "   age     sex     bmi  children smoker     region      charges\n",
              "0   19  female  27.900         0    yes  southwest  16884.92400\n",
              "1   18    male  33.770         1     no  southeast   1725.55230\n",
              "2   28    male  33.000         3     no  southeast   4449.46200\n",
              "3   33    male  22.705         0     no  northwest  21984.47061\n",
              "4   32    male  28.880         0     no  northwest   3866.85520"
            ]
          },
          "metadata": {
            "tags": []
          },
          "execution_count": 59
        }
      ]
    },
    {
      "cell_type": "code",
      "metadata": {
        "id": "8RoZuz2tKfXL"
      },
      "source": [
        "from sklearn.compose import make_column_transformer\n",
        "from sklearn.preprocessing import OneHotEncoder,MinMaxScaler\n",
        "ct = make_column_transformer(\n",
        "    (MinMaxScaler(),['age','bmi','children']), # turn all values 0 and 1\n",
        "    (OneHotEncoder(handle_unknown='ignore'),['sex','smoker','region']) # on-hot \n",
        "\n",
        ")\n",
        "# Create X & y values features\n",
        "y = insurance['charges']\n",
        "X = insurance.drop(labels='charges',axis=1)\n",
        "# Build our trainin and test set\n",
        "X_train,X_test,y_train,y_test = train_test_split(X,y,test_size=0.2,random_state=42)\n",
        "# Fit the column transformer to our data\n",
        "ct.fit(X_train)\n",
        "X_train_normal = ct.transform(X_train)\n",
        "X_test_normal = ct.transform(X_test)"
      ],
      "execution_count": 63,
      "outputs": []
    },
    {
      "cell_type": "code",
      "metadata": {
        "colab": {
          "base_uri": "https://localhost:8080/"
        },
        "id": "EAyCSDZ6K_Xw",
        "outputId": "1c6e6cef-b8fe-4fc3-8b50-d077f994549f"
      },
      "source": [
        "X_train_normal"
      ],
      "execution_count": 62,
      "outputs": [
        {
          "output_type": "execute_result",
          "data": {
            "text/plain": [
              "array([[0.60869565, 0.10734463, 0.4       , ..., 1.        , 0.        ,\n",
              "        0.        ],\n",
              "       [0.63043478, 0.22491256, 0.        , ..., 0.        , 0.        ,\n",
              "        0.        ],\n",
              "       [0.73913043, 0.23944041, 0.        , ..., 0.        , 1.        ,\n",
              "        0.        ],\n",
              "       ...,\n",
              "       [0.86956522, 0.24791499, 0.        , ..., 0.        , 0.        ,\n",
              "        0.        ],\n",
              "       [0.41304348, 0.85122411, 0.4       , ..., 0.        , 0.        ,\n",
              "        1.        ],\n",
              "       [0.80434783, 0.37503363, 0.        , ..., 0.        , 0.        ,\n",
              "        1.        ]])"
            ]
          },
          "metadata": {
            "tags": []
          },
          "execution_count": 62
        }
      ]
    },
    {
      "cell_type": "markdown",
      "metadata": {
        "id": "Y4_8979-Kx7U"
      },
      "source": [
        "### Train model with preprocessing data"
      ]
    },
    {
      "cell_type": "code",
      "metadata": {
        "id": "6_ngXOiJL-83"
      },
      "source": [
        "tf.random.set_seed(42)\n",
        "# 1. Create model\n",
        "insurance_model_3 = keras.Sequential([\n",
        "                                      keras.layers.Dense(100),\n",
        "                                      keras.layers.Dense(10),\n",
        "                                      keras.layers.Dense(1),\n",
        "])\n",
        "# 2. Compile model\n",
        "insurance_model_3.compile(loss=keras.losses.mae,\n",
        "                          optimizer=keras.optimizers.Adam(),\n",
        "                          metrics=['mae'])\n",
        "# 3. Fitting our model\n",
        "history = insurance_model_3.fit(X_train_normal,y_train,epochs=500,verbose=0)\n"
      ],
      "execution_count": 64,
      "outputs": []
    },
    {
      "cell_type": "code",
      "metadata": {
        "colab": {
          "base_uri": "https://localhost:8080/"
        },
        "id": "I55GIAd5MCWc",
        "outputId": "1e32a98e-b0d7-464a-a943-3504a29d9685"
      },
      "source": [
        "insurance_model_3.evaluate(X_test_normal,y_test)"
      ],
      "execution_count": 66,
      "outputs": [
        {
          "output_type": "stream",
          "text": [
            "9/9 [==============================] - 0s 2ms/step - loss: 3160.7495 - mae: 3160.7495\n"
          ],
          "name": "stdout"
        },
        {
          "output_type": "execute_result",
          "data": {
            "text/plain": [
              "[3160.74951171875, 3160.74951171875]"
            ]
          },
          "metadata": {
            "tags": []
          },
          "execution_count": 66
        }
      ]
    },
    {
      "cell_type": "code",
      "metadata": {
        "id": "9LsDI5zxMfRq"
      },
      "source": [
        ""
      ],
      "execution_count": null,
      "outputs": []
    }
  ]
}