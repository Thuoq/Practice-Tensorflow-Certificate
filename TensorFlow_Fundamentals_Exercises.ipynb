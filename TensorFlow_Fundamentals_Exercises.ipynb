{
  "nbformat": 4,
  "nbformat_minor": 0,
  "metadata": {
    "colab": {
      "name": "TensorFlow Fundamentals Exercises.ipynb",
      "provenance": [],
      "collapsed_sections": [],
      "authorship_tag": "ABX9TyNeR/KU1IuqpaNmDaOfJDYU",
      "include_colab_link": true
    },
    "kernelspec": {
      "name": "python3",
      "display_name": "Python 3"
    },
    "language_info": {
      "name": "python"
    }
  },
  "cells": [
    {
      "cell_type": "markdown",
      "metadata": {
        "id": "view-in-github",
        "colab_type": "text"
      },
      "source": [
        "<a href=\"https://colab.research.google.com/github/Thuoq/Practice-Tensorflow-Certificate/blob/main/TensorFlow_Fundamentals_Exercises.ipynb\" target=\"_parent\"><img src=\"https://colab.research.google.com/assets/colab-badge.svg\" alt=\"Open In Colab\"/></a>"
      ]
    },
    {
      "cell_type": "markdown",
      "metadata": {
        "id": "LV_0pIx3W-50"
      },
      "source": [
        "1. Create a vector, scalar, matrix and tensor with values of your choosing using tf.constant()."
      ]
    },
    {
      "cell_type": "code",
      "metadata": {
        "id": "JDKB5HcwX32a"
      },
      "source": [
        "import tensorflow as tf\n",
        "import numpy as np"
      ],
      "execution_count": null,
      "outputs": []
    },
    {
      "cell_type": "code",
      "metadata": {
        "colab": {
          "base_uri": "https://localhost:8080/"
        },
        "id": "fFOLGxckbONk",
        "outputId": "ad046559-338a-4ab2-c8f0-ace97715faf6"
      },
      "source": [
        "scalar = tf.constant(7)\n",
        "scalar"
      ],
      "execution_count": null,
      "outputs": [
        {
          "output_type": "execute_result",
          "data": {
            "text/plain": [
              "<tf.Tensor: shape=(), dtype=int32, numpy=7>"
            ]
          },
          "metadata": {
            "tags": []
          },
          "execution_count": 3
        }
      ]
    },
    {
      "cell_type": "code",
      "metadata": {
        "colab": {
          "base_uri": "https://localhost:8080/"
        },
        "id": "0seGRgBibdbV",
        "outputId": "66c97af8-e971-4027-9795-82fc6118465a"
      },
      "source": [
        "vector = tf.constant([1,2,3])\n",
        "vector"
      ],
      "execution_count": null,
      "outputs": [
        {
          "output_type": "execute_result",
          "data": {
            "text/plain": [
              "<tf.Tensor: shape=(3,), dtype=int32, numpy=array([1, 2, 3], dtype=int32)>"
            ]
          },
          "metadata": {
            "tags": []
          },
          "execution_count": 4
        }
      ]
    },
    {
      "cell_type": "code",
      "metadata": {
        "colab": {
          "base_uri": "https://localhost:8080/"
        },
        "id": "HNjuy066blnO",
        "outputId": "0b89129c-6daa-4857-dc44-1c28fd0c39f4"
      },
      "source": [
        "matrix = tf.constant([[1,2,4],[2,1,2]])\n",
        "matrix"
      ],
      "execution_count": null,
      "outputs": [
        {
          "output_type": "execute_result",
          "data": {
            "text/plain": [
              "<tf.Tensor: shape=(2, 3), dtype=int32, numpy=\n",
              "array([[1, 2, 4],\n",
              "       [2, 1, 2]], dtype=int32)>"
            ]
          },
          "metadata": {
            "tags": []
          },
          "execution_count": 6
        }
      ]
    },
    {
      "cell_type": "markdown",
      "metadata": {
        "id": "nOBwQeH6bpTf"
      },
      "source": [
        "2. Find the shape, rank and size of the tensors you created in 1."
      ]
    },
    {
      "cell_type": "code",
      "metadata": {
        "id": "QrIUJ__Abwc_"
      },
      "source": [
        "def show_rank_shape_size(tensor):\n",
        "  print(tensor.shape,tf.size(tensor),tensor.ndim)"
      ],
      "execution_count": null,
      "outputs": []
    },
    {
      "cell_type": "code",
      "metadata": {
        "colab": {
          "base_uri": "https://localhost:8080/"
        },
        "id": "5i0pJlTOb2kS",
        "outputId": "6e079536-abe8-4be8-cc2b-039f508a44b4"
      },
      "source": [
        "show_rank_shape_size(scalar)\n",
        "show_rank_shape_size(vector)\n",
        "show_rank_shape_size(matrix)"
      ],
      "execution_count": null,
      "outputs": [
        {
          "output_type": "stream",
          "text": [
            "() tf.Tensor(1, shape=(), dtype=int32) 0\n",
            "(3,) tf.Tensor(3, shape=(), dtype=int32) 1\n",
            "(2, 3) tf.Tensor(6, shape=(), dtype=int32) 2\n"
          ],
          "name": "stdout"
        }
      ]
    },
    {
      "cell_type": "markdown",
      "metadata": {
        "id": "kJsOZovCgqKA"
      },
      "source": [
        "3. Create two tensors containing random values between 0 and 1 with shape [5, 300]."
      ]
    },
    {
      "cell_type": "code",
      "metadata": {
        "colab": {
          "base_uri": "https://localhost:8080/"
        },
        "id": "50UHKcm0cFfq",
        "outputId": "7990af45-b70d-456d-b5f1-eca383078954"
      },
      "source": [
        "ten_3 = tf.constant(np.random.rand(5,300))\n",
        "ten_3"
      ],
      "execution_count": null,
      "outputs": [
        {
          "output_type": "execute_result",
          "data": {
            "text/plain": [
              "<tf.Tensor: shape=(5, 300), dtype=float64, numpy=\n",
              "array([[0.3757763 , 0.2496846 , 0.16192394, ..., 0.60702997, 0.16203366,\n",
              "        0.25091867],\n",
              "       [0.51603985, 0.1032115 , 0.18244388, ..., 0.02358556, 0.70973477,\n",
              "        0.05844744],\n",
              "       [0.31569682, 0.94100217, 0.19351137, ..., 0.10271868, 0.28068468,\n",
              "        0.31484396],\n",
              "       [0.84403928, 0.47172076, 0.04063454, ..., 0.73536587, 0.78711622,\n",
              "        0.31234253],\n",
              "       [0.41547784, 0.58194827, 0.07171979, ..., 0.25601614, 0.64866452,\n",
              "        0.89220249]])>"
            ]
          },
          "metadata": {
            "tags": []
          },
          "execution_count": 15
        }
      ]
    },
    {
      "cell_type": "code",
      "metadata": {
        "colab": {
          "base_uri": "https://localhost:8080/"
        },
        "id": "cbu0hYXUgI9c",
        "outputId": "7f03cc89-fe06-40e5-d2e3-274c7f428f51"
      },
      "source": [
        "ten_3_b = tf.constant(np.random.rand(5,300))\n",
        "ten_3_b"
      ],
      "execution_count": null,
      "outputs": [
        {
          "output_type": "execute_result",
          "data": {
            "text/plain": [
              "<tf.Tensor: shape=(5, 300), dtype=float64, numpy=\n",
              "array([[0.11603955, 0.09126001, 0.06699339, ..., 0.89527652, 0.91113281,\n",
              "        0.9341563 ],\n",
              "       [0.43612244, 0.57124772, 0.99232935, ..., 0.54533937, 0.18668151,\n",
              "        0.99992303],\n",
              "       [0.44373679, 0.17899051, 0.47686309, ..., 0.12952713, 0.55474885,\n",
              "        0.76044826],\n",
              "       [0.10021507, 0.49112844, 0.8913423 , ..., 0.69983288, 0.86524536,\n",
              "        0.68423717],\n",
              "       [0.22900945, 0.56781389, 0.27803293, ..., 0.61731453, 0.91137256,\n",
              "        0.40100695]])>"
            ]
          },
          "metadata": {
            "tags": []
          },
          "execution_count": 16
        }
      ]
    },
    {
      "cell_type": "markdown",
      "metadata": {
        "id": "xeTvf9EfhFzK"
      },
      "source": [
        "4. Multiply the two tensors you created in 3 using matrix multiplication."
      ]
    },
    {
      "cell_type": "code",
      "metadata": {
        "colab": {
          "base_uri": "https://localhost:8080/"
        },
        "id": "8hLeqqfqhLdJ",
        "outputId": "7f022557-360f-41a7-bd96-2c9ede0b0665"
      },
      "source": [
        "ten_3 * ten_3_b"
      ],
      "execution_count": null,
      "outputs": [
        {
          "output_type": "execute_result",
          "data": {
            "text/plain": [
              "<tf.Tensor: shape=(5, 300), dtype=float64, numpy=\n",
              "array([[0.04360491, 0.02278622, 0.01084783, ..., 0.54345968, 0.14763418,\n",
              "        0.23439726],\n",
              "       [0.22505656, 0.05895934, 0.18104442, ..., 0.01286213, 0.13249436,\n",
              "        0.05844294],\n",
              "       [0.14008629, 0.16843045, 0.09227843, ..., 0.01330486, 0.1557095 ,\n",
              "        0.23942254],\n",
              "       [0.08458546, 0.23167548, 0.03621928, ..., 0.51463322, 0.68104865,\n",
              "        0.21371636],\n",
              "       [0.09514835, 0.33043831, 0.01994046, ..., 0.15804248, 0.59117505,\n",
              "        0.3577794 ]])>"
            ]
          },
          "metadata": {
            "tags": []
          },
          "execution_count": 17
        }
      ]
    },
    {
      "cell_type": "markdown",
      "metadata": {
        "id": "vOBRaAO0hNGS"
      },
      "source": [
        "5. Multiply the two tensors you created in 3 using dot product."
      ]
    },
    {
      "cell_type": "code",
      "metadata": {
        "colab": {
          "base_uri": "https://localhost:8080/"
        },
        "id": "782R8mpfhQ_y",
        "outputId": "947b6018-c0ca-4f85-fea7-228b75200388"
      },
      "source": [
        "tf.matmul(ten_3,tf.transpose(ten_3_b))"
      ],
      "execution_count": null,
      "outputs": [
        {
          "output_type": "execute_result",
          "data": {
            "text/plain": [
              "<tf.Tensor: shape=(5, 5), dtype=float64, numpy=\n",
              "array([[76.83947644, 74.84253106, 74.01431994, 73.12967436, 72.60098377],\n",
              "       [73.01452494, 73.63599201, 74.85253265, 71.82422572, 70.09288076],\n",
              "       [73.41441621, 70.31615717, 73.21872773, 72.07707609, 69.6287792 ],\n",
              "       [70.85738937, 74.55734278, 75.62285715, 70.9664762 , 70.46212301],\n",
              "       [77.68626612, 75.81794252, 80.79705544, 74.41312325, 71.0091733 ]])>"
            ]
          },
          "metadata": {
            "tags": []
          },
          "execution_count": 21
        }
      ]
    },
    {
      "cell_type": "markdown",
      "metadata": {
        "id": "Hhmd95PWhfvV"
      },
      "source": [
        "6. Create a tensor with random values between 0 and 1 with shape [224, 224, 3]."
      ]
    },
    {
      "cell_type": "code",
      "metadata": {
        "colab": {
          "base_uri": "https://localhost:8080/"
        },
        "id": "xB3TrZgjiGPK",
        "outputId": "9add8528-765b-48ef-d4c5-073d34786d06"
      },
      "source": [
        "ten_6 = tf.constant(np.random.rand(244,244,3))\n",
        "ten_6"
      ],
      "execution_count": null,
      "outputs": [
        {
          "output_type": "execute_result",
          "data": {
            "text/plain": [
              "<tf.Tensor: shape=(244, 244, 3), dtype=float64, numpy=\n",
              "array([[[0.33217767, 0.1164255 , 0.15919135],\n",
              "        [0.13715526, 0.48464952, 0.28708432],\n",
              "        [0.96508165, 0.70138247, 0.94355957],\n",
              "        ...,\n",
              "        [0.28345957, 0.60731512, 0.72040665],\n",
              "        [0.83376869, 0.80053076, 0.39143241],\n",
              "        [0.87527658, 0.43338099, 0.01815277]],\n",
              "\n",
              "       [[0.40700255, 0.77858099, 0.36001296],\n",
              "        [0.0079432 , 0.04487674, 0.46063696],\n",
              "        [0.67864898, 0.15908415, 0.66738039],\n",
              "        ...,\n",
              "        [0.97079645, 0.21539174, 0.95538694],\n",
              "        [0.1670013 , 0.80579882, 0.09799158],\n",
              "        [0.58855697, 0.19345547, 0.5544049 ]],\n",
              "\n",
              "       [[0.8314855 , 0.19261382, 0.38873632],\n",
              "        [0.6159487 , 0.90345677, 0.83570326],\n",
              "        [0.26145784, 0.9671827 , 0.60557783],\n",
              "        ...,\n",
              "        [0.79932344, 0.66708594, 0.47110729],\n",
              "        [0.28131002, 0.59656132, 0.34302947],\n",
              "        [0.08326702, 0.36618046, 0.59789231]],\n",
              "\n",
              "       ...,\n",
              "\n",
              "       [[0.33053694, 0.2491744 , 0.1800252 ],\n",
              "        [0.1163374 , 0.56983513, 0.53304468],\n",
              "        [0.41910369, 0.64668083, 0.82393631],\n",
              "        ...,\n",
              "        [0.52636983, 0.78491403, 0.74817276],\n",
              "        [0.62794148, 0.80339914, 0.74169637],\n",
              "        [0.81920041, 0.67622737, 0.09924337]],\n",
              "\n",
              "       [[0.71221416, 0.38172577, 0.7513372 ],\n",
              "        [0.51019458, 0.47269716, 0.12049634],\n",
              "        [0.0620621 , 0.18182018, 0.82917502],\n",
              "        ...,\n",
              "        [0.42872607, 0.80766008, 0.89842365],\n",
              "        [0.32137742, 0.19248876, 0.3477171 ],\n",
              "        [0.51180865, 0.59579721, 0.43040759]],\n",
              "\n",
              "       [[0.99493413, 0.92606117, 0.71075534],\n",
              "        [0.88817626, 0.22349127, 0.55500483],\n",
              "        [0.17161286, 0.29059654, 0.35249998],\n",
              "        ...,\n",
              "        [0.86848503, 0.26335658, 0.31481798],\n",
              "        [0.42066631, 0.62917975, 0.97210539],\n",
              "        [0.12273445, 0.37375968, 0.63068316]]])>"
            ]
          },
          "metadata": {
            "tags": []
          },
          "execution_count": 22
        }
      ]
    },
    {
      "cell_type": "markdown",
      "metadata": {
        "id": "UL2QiWA3iTIS"
      },
      "source": [
        "7. Find the min and max values of the tensor you created in 6 along the first axis."
      ]
    },
    {
      "cell_type": "code",
      "metadata": {
        "colab": {
          "base_uri": "https://localhost:8080/"
        },
        "id": "xBl-nmQgib5b",
        "outputId": "beb6bdad-5ba5-4d3b-b51b-1a0e2a0f9a7e"
      },
      "source": [
        "tf.math.reduce_min(ten_6)"
      ],
      "execution_count": null,
      "outputs": [
        {
          "output_type": "execute_result",
          "data": {
            "text/plain": [
              "<tf.Tensor: shape=(), dtype=float64, numpy=2.8606047250967492e-06>"
            ]
          },
          "metadata": {
            "tags": []
          },
          "execution_count": 41
        }
      ]
    },
    {
      "cell_type": "markdown",
      "metadata": {
        "id": "Ve1v4CO0jDlg"
      },
      "source": [
        "8. Created a tensor with random values of shape [1, 224, 224, 3] then squeeze it to change the shape to [224, 224, 3]."
      ]
    },
    {
      "cell_type": "code",
      "metadata": {
        "colab": {
          "base_uri": "https://localhost:8080/"
        },
        "id": "04O4uexwkIe4",
        "outputId": "911ee83e-b952-4924-8d53-bc46453b0db0"
      },
      "source": [
        "tensor_8 = tf.constant(np.random.rand(1,224,224,3))\n",
        "tensor_8"
      ],
      "execution_count": null,
      "outputs": [
        {
          "output_type": "execute_result",
          "data": {
            "text/plain": [
              "<tf.Tensor: shape=(1, 224, 224, 3), dtype=float64, numpy=\n",
              "array([[[[0.1196478 , 0.32842448, 0.78197263],\n",
              "         [0.89566427, 0.49761606, 0.1514527 ],\n",
              "         [0.08356753, 0.14959956, 0.46667697],\n",
              "         ...,\n",
              "         [0.33011014, 0.19884056, 0.61812367],\n",
              "         [0.71301135, 0.31732274, 0.5775631 ],\n",
              "         [0.53980712, 0.4312952 , 0.2075726 ]],\n",
              "\n",
              "        [[0.26128531, 0.19589863, 0.62977158],\n",
              "         [0.20655861, 0.13508165, 0.38174816],\n",
              "         [0.52037182, 0.46076689, 0.9318881 ],\n",
              "         ...,\n",
              "         [0.43512173, 0.20514757, 0.69120865],\n",
              "         [0.58585515, 0.38667676, 0.59737114],\n",
              "         [0.07746902, 0.76587421, 0.98416675]],\n",
              "\n",
              "        [[0.67892141, 0.73690748, 0.87069967],\n",
              "         [0.60882904, 0.38377102, 0.6597617 ],\n",
              "         [0.68559142, 0.84254093, 0.82746847],\n",
              "         ...,\n",
              "         [0.21693036, 0.24470688, 0.62236851],\n",
              "         [0.64011516, 0.05695867, 0.7166679 ],\n",
              "         [0.53050151, 0.14788338, 0.93229616]],\n",
              "\n",
              "        ...,\n",
              "\n",
              "        [[0.53160695, 0.76883645, 0.88819963],\n",
              "         [0.38651581, 0.28024287, 0.41284098],\n",
              "         [0.58579319, 0.74684827, 0.64076615],\n",
              "         ...,\n",
              "         [0.3173186 , 0.83746086, 0.93442014],\n",
              "         [0.49921656, 0.73385122, 0.33934408],\n",
              "         [0.43261231, 0.01629109, 0.27329922]],\n",
              "\n",
              "        [[0.37067756, 0.88650954, 0.55576007],\n",
              "         [0.08249557, 0.12544629, 0.70760261],\n",
              "         [0.17118974, 0.82281613, 0.82395376],\n",
              "         ...,\n",
              "         [0.44801959, 0.554846  , 0.48076583],\n",
              "         [0.97450457, 0.78741476, 0.99456683],\n",
              "         [0.31654114, 0.55876538, 0.04363334]],\n",
              "\n",
              "        [[0.75242316, 0.01511909, 0.70039927],\n",
              "         [0.82201222, 0.80657206, 0.16050111],\n",
              "         [0.29857442, 0.60116842, 0.76338792],\n",
              "         ...,\n",
              "         [0.36987244, 0.83163545, 0.64403398],\n",
              "         [0.36211475, 0.5498001 , 0.59913988],\n",
              "         [0.02869664, 0.03259415, 0.59072615]]]])>"
            ]
          },
          "metadata": {
            "tags": []
          },
          "execution_count": 26
        }
      ]
    },
    {
      "cell_type": "code",
      "metadata": {
        "colab": {
          "base_uri": "https://localhost:8080/"
        },
        "id": "PFOCq1nSkRVj",
        "outputId": "5c4212be-05a8-4a3c-e1f9-9e4d01c8907d"
      },
      "source": [
        "tf.squeeze(tensor_8)"
      ],
      "execution_count": null,
      "outputs": [
        {
          "output_type": "execute_result",
          "data": {
            "text/plain": [
              "<tf.Tensor: shape=(224, 224, 3), dtype=float64, numpy=\n",
              "array([[[0.1196478 , 0.32842448, 0.78197263],\n",
              "        [0.89566427, 0.49761606, 0.1514527 ],\n",
              "        [0.08356753, 0.14959956, 0.46667697],\n",
              "        ...,\n",
              "        [0.33011014, 0.19884056, 0.61812367],\n",
              "        [0.71301135, 0.31732274, 0.5775631 ],\n",
              "        [0.53980712, 0.4312952 , 0.2075726 ]],\n",
              "\n",
              "       [[0.26128531, 0.19589863, 0.62977158],\n",
              "        [0.20655861, 0.13508165, 0.38174816],\n",
              "        [0.52037182, 0.46076689, 0.9318881 ],\n",
              "        ...,\n",
              "        [0.43512173, 0.20514757, 0.69120865],\n",
              "        [0.58585515, 0.38667676, 0.59737114],\n",
              "        [0.07746902, 0.76587421, 0.98416675]],\n",
              "\n",
              "       [[0.67892141, 0.73690748, 0.87069967],\n",
              "        [0.60882904, 0.38377102, 0.6597617 ],\n",
              "        [0.68559142, 0.84254093, 0.82746847],\n",
              "        ...,\n",
              "        [0.21693036, 0.24470688, 0.62236851],\n",
              "        [0.64011516, 0.05695867, 0.7166679 ],\n",
              "        [0.53050151, 0.14788338, 0.93229616]],\n",
              "\n",
              "       ...,\n",
              "\n",
              "       [[0.53160695, 0.76883645, 0.88819963],\n",
              "        [0.38651581, 0.28024287, 0.41284098],\n",
              "        [0.58579319, 0.74684827, 0.64076615],\n",
              "        ...,\n",
              "        [0.3173186 , 0.83746086, 0.93442014],\n",
              "        [0.49921656, 0.73385122, 0.33934408],\n",
              "        [0.43261231, 0.01629109, 0.27329922]],\n",
              "\n",
              "       [[0.37067756, 0.88650954, 0.55576007],\n",
              "        [0.08249557, 0.12544629, 0.70760261],\n",
              "        [0.17118974, 0.82281613, 0.82395376],\n",
              "        ...,\n",
              "        [0.44801959, 0.554846  , 0.48076583],\n",
              "        [0.97450457, 0.78741476, 0.99456683],\n",
              "        [0.31654114, 0.55876538, 0.04363334]],\n",
              "\n",
              "       [[0.75242316, 0.01511909, 0.70039927],\n",
              "        [0.82201222, 0.80657206, 0.16050111],\n",
              "        [0.29857442, 0.60116842, 0.76338792],\n",
              "        ...,\n",
              "        [0.36987244, 0.83163545, 0.64403398],\n",
              "        [0.36211475, 0.5498001 , 0.59913988],\n",
              "        [0.02869664, 0.03259415, 0.59072615]]])>"
            ]
          },
          "metadata": {
            "tags": []
          },
          "execution_count": 27
        }
      ]
    },
    {
      "cell_type": "markdown",
      "metadata": {
        "id": "8lKQIRDIkVTq"
      },
      "source": [
        "9. Create a tensor with shape [10] using your own choice of values, then find the index which has the maximum value.\n"
      ]
    },
    {
      "cell_type": "code",
      "metadata": {
        "colab": {
          "base_uri": "https://localhost:8080/"
        },
        "id": "cjPTGMcIkbfj",
        "outputId": "9201f821-33bd-4a1d-db2a-5d72bfb7a663"
      },
      "source": [
        "tensor_9 = tf.constant([1,2,3,4,5,6,7,8,9,10])\n",
        "tf.math.argmax(tensor_9)\n",
        "print(tf.size(tensor_9))"
      ],
      "execution_count": null,
      "outputs": [
        {
          "output_type": "stream",
          "text": [
            "tf.Tensor(10, shape=(), dtype=int32)\n"
          ],
          "name": "stdout"
        }
      ]
    },
    {
      "cell_type": "markdown",
      "metadata": {
        "id": "ZrCM6zHbkzM4"
      },
      "source": [
        "10. One-hot encode the tensor you created in 9.\n"
      ]
    },
    {
      "cell_type": "code",
      "metadata": {
        "colab": {
          "base_uri": "https://localhost:8080/"
        },
        "id": "62UqvtTpk3Wm",
        "outputId": "379a6961-4b3e-4e9a-a3fe-3be4c10e6e6b"
      },
      "source": [
        "tf.one_hot(tensor_9,tf.size(tensor_9)+1)"
      ],
      "execution_count": null,
      "outputs": [
        {
          "output_type": "execute_result",
          "data": {
            "text/plain": [
              "<tf.Tensor: shape=(10, 11), dtype=float32, numpy=\n",
              "array([[0., 1., 0., 0., 0., 0., 0., 0., 0., 0., 0.],\n",
              "       [0., 0., 1., 0., 0., 0., 0., 0., 0., 0., 0.],\n",
              "       [0., 0., 0., 1., 0., 0., 0., 0., 0., 0., 0.],\n",
              "       [0., 0., 0., 0., 1., 0., 0., 0., 0., 0., 0.],\n",
              "       [0., 0., 0., 0., 0., 1., 0., 0., 0., 0., 0.],\n",
              "       [0., 0., 0., 0., 0., 0., 1., 0., 0., 0., 0.],\n",
              "       [0., 0., 0., 0., 0., 0., 0., 1., 0., 0., 0.],\n",
              "       [0., 0., 0., 0., 0., 0., 0., 0., 1., 0., 0.],\n",
              "       [0., 0., 0., 0., 0., 0., 0., 0., 0., 1., 0.],\n",
              "       [0., 0., 0., 0., 0., 0., 0., 0., 0., 0., 1.]], dtype=float32)>"
            ]
          },
          "metadata": {
            "tags": []
          },
          "execution_count": 36
        }
      ]
    },
    {
      "cell_type": "code",
      "metadata": {
        "id": "z4M9UeNDk6pX"
      },
      "source": [
        ""
      ],
      "execution_count": null,
      "outputs": []
    }
  ]
}